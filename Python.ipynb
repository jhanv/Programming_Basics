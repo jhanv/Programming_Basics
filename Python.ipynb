{
  "nbformat": 4,
  "nbformat_minor": 0,
  "metadata": {
    "colab": {
      "name": "Python.ipynb",
      "provenance": [],
      "collapsed_sections": [],
      "authorship_tag": "ABX9TyOTM7JMuRAn+Mj4atSvMaXZ",
      "include_colab_link": true
    },
    "kernelspec": {
      "name": "python3",
      "display_name": "Python 3"
    }
  },
  "cells": [
    {
      "cell_type": "markdown",
      "metadata": {
        "id": "view-in-github",
        "colab_type": "text"
      },
      "source": [
        "<a href=\"https://colab.research.google.com/github/jhanv/Programming_Basics/blob/main/Python.ipynb\" target=\"_parent\"><img src=\"https://colab.research.google.com/assets/colab-badge.svg\" alt=\"Open In Colab\"/></a>"
      ]
    },
    {
      "cell_type": "markdown",
      "metadata": {
        "id": "4goO_whPVPTh"
      },
      "source": [
        "# PYTHON PROGRAMMING\n",
        "\n",
        "Python is developed by Guido van Rossum in the early 90s\n",
        "Some of the Positive Features of Python\n",
        "* Fast Development\n",
        "* Portable\n",
        "* Various built-in data types\n",
        "* Large collection of support libraries\n",
        "\n",
        "Python is famously known as an interpreter language, whereas Java, C, etc. are compiler languages.\n",
        "* An interpreted language reads your code line by line and executes them as they are read\n",
        "* A compiled language converts *all* of your code into another form first. Note, the other form does not have to be machine code! This could be bytecode too.\n",
        "\n",
        "Python can be both interpreted and compiled. Python actually converts your code into bytecode first (for example, .pyc), then interprets your code. \n",
        "\n",
        "Python programming can be run by any of the following \n",
        "* Python Scripts (i.e. in text editors like sublime)\n",
        "* Integrated Development Environment (like pycharm, visual code etc. )\n",
        "* Python Notebooks (like jupyter notebbok, colb etc. )"
      ]
    },
    {
      "cell_type": "markdown",
      "metadata": {
        "id": "dsT5fviVTWZU"
      },
      "source": [
        "## DATA TYPES IN PYTHON\n",
        "\n",
        "Text Data Type : Strings\n",
        "\n",
        "Numeric Data Types : int, float, complex \n",
        "\n",
        "Sequence Data Types : list, tuple, range \n",
        "\n",
        "Mapping Data types : dictionary \n",
        "\n",
        "Set Data Types : set, frozenset\n",
        "\n",
        "Boolean Data Types: bool \n",
        "\n",
        "Binary Data Types : bytes, bytearrray "
      ]
    },
    {
      "cell_type": "markdown",
      "metadata": {
        "id": "VpG_fNjyYaPp"
      },
      "source": [
        ">>> type(your_variable) gives the data type of the varaible"
      ]
    },
    {
      "cell_type": "markdown",
      "metadata": {
        "id": "rFb2eoUobG2m"
      },
      "source": [
        "### STATIC VS DYNAMIC TYPING\n",
        "\n",
        "Java/ C: static typing\n",
        "▪ Variables can only refer to objects of a declared type\n",
        "▪ Methods use type signatures to enforce contracts\n",
        "\n",
        "Python: dynamic typing\n",
        "▪ Variables come into existence when first assigned.\n",
        ">>> x = \"foo”\n",
        ">>> x = 2\n",
        "\n",
        "▪ Functions have no type signatures\n",
        "▪ Drawback: type errors are only caught at runtime"
      ]
    },
    {
      "cell_type": "markdown",
      "metadata": {
        "id": "EkafyCI2YQ3F"
      },
      "source": [
        "###Text Data *type*\n",
        "\n",
        "Anything among A-Z and special characters and numbers"
      ]
    },
    {
      "cell_type": "markdown",
      "metadata": {
        "id": "969uFHyMZ8_6"
      },
      "source": [
        "STRINGS"
      ]
    },
    {
      "cell_type": "code",
      "metadata": {
        "colab": {
          "base_uri": "https://localhost:8080/"
        },
        "id": "xIG9vAJxYQKy",
        "outputId": "616222e5-6b5d-424c-e564-77808f82355d"
      },
      "source": [
        "string = \"hello\"\n",
        "another_string = 'hello'\n",
        "multiple_line_string = \"\"\" This is an mutilple line code\n",
        "                          That we are working on \"\"\"\n",
        "print(type(string))"
      ],
      "execution_count": null,
      "outputs": [
        {
          "output_type": "stream",
          "text": [
            "<class 'str'>\n"
          ],
          "name": "stdout"
        }
      ]
    },
    {
      "cell_type": "code",
      "metadata": {
        "colab": {
          "base_uri": "https://localhost:8080/"
        },
        "id": "Pyzt9gHalAq4",
        "outputId": "d2b9f5ac-5a1f-4581-a36c-87791e467e78"
      },
      "source": [
        "input = \"Str\"\n",
        "if not type(\"str\") == str:\n",
        "  print(0)\n",
        "elif input.lower() not in [\"Str\", \"dgsh\"]:\n",
        "  print(1)\n",
        "else :\n",
        "  print(0)"
      ],
      "execution_count": null,
      "outputs": [
        {
          "output_type": "stream",
          "text": [
            "1\n"
          ],
          "name": "stdout"
        }
      ]
    },
    {
      "cell_type": "markdown",
      "metadata": {
        "id": "jggaI7NjUocD"
      },
      "source": [
        "### Numeric Data Types\n",
        "\n",
        "Basically Number"
      ]
    },
    {
      "cell_type": "markdown",
      "metadata": {
        "id": "q0TDk5pyU14r"
      },
      "source": [
        "INTEGERS\n",
        "\n",
        "Whole numbers"
      ]
    },
    {
      "cell_type": "code",
      "metadata": {
        "colab": {
          "base_uri": "https://localhost:8080/"
        },
        "id": "LjSN3tudUng0",
        "outputId": "6a10a9ce-35f3-4420-9204-6329f38a60f4"
      },
      "source": [
        "integer = 1\n",
        "print(\"{} is of type {}\".format(integer, type(integer)))"
      ],
      "execution_count": null,
      "outputs": [
        {
          "output_type": "stream",
          "text": [
            "1 is of type <class 'int'>\n"
          ],
          "name": "stdout"
        }
      ]
    },
    {
      "cell_type": "markdown",
      "metadata": {
        "id": "4fC3mFH5U_YX"
      },
      "source": [
        "FLOAT\n",
        "\n",
        "Decimal Numbers"
      ]
    },
    {
      "cell_type": "code",
      "metadata": {
        "colab": {
          "base_uri": "https://localhost:8080/"
        },
        "id": "Ze3mF1nZVBa1",
        "outputId": "eac62a05-2c82-4306-d992-73d2e77d8ce4"
      },
      "source": [
        "number = 5.5\n",
        " \n",
        "print(\"{} is of type {}\".format(number, type(number)))"
      ],
      "execution_count": null,
      "outputs": [
        {
          "output_type": "stream",
          "text": [
            "5.5 is of type <class 'float'>\n"
          ],
          "name": "stdout"
        }
      ]
    },
    {
      "cell_type": "markdown",
      "metadata": {
        "id": "Z04PjsOlVKE5"
      },
      "source": [
        "COMPLEX\n",
        "\n",
        "real and imaginary numbers i.e. complex numbers"
      ]
    },
    {
      "cell_type": "code",
      "metadata": {
        "colab": {
          "base_uri": "https://localhost:8080/"
        },
        "id": "RlY4EhX7VLlx",
        "outputId": "432a3b2f-acb2-4534-d4ed-b62ac3e7cad1"
      },
      "source": [
        "cmplx = 1 + 5j \n",
        "print(\"{} is of type {}\".format(cmplx, type(cmplx)))"
      ],
      "execution_count": null,
      "outputs": [
        {
          "output_type": "stream",
          "text": [
            "(1+5j) is of type <class 'complex'>\n"
          ],
          "name": "stdout"
        }
      ]
    },
    {
      "cell_type": "markdown",
      "metadata": {
        "id": "YjFWeC3ZYl2c"
      },
      "source": [
        "### Sequence Data Types\n",
        "\n",
        "\n",
        "Sequence of elements"
      ]
    },
    {
      "cell_type": "markdown",
      "metadata": {
        "id": "hBI_bKgTYx9z"
      },
      "source": [
        "Lists\n",
        "\n",
        "Lists can be multi Dimensional\n",
        "\n",
        "To access an element in the list\n",
        ">>> list_name[position_of the element] \n",
        "\n",
        "To know the length of the list use\n",
        ">>> len(list_name)"
      ]
    },
    {
      "cell_type": "code",
      "metadata": {
        "colab": {
          "base_uri": "https://localhost:8080/"
        },
        "id": "CjBpudx-Yzw0",
        "outputId": "f37cda15-3d04-4f58-cd5e-2e1a240b28c3"
      },
      "source": [
        "lst = []\n",
        "# Single 1D list\n",
        "lst = [1,2,3,5]\n",
        "\n",
        "# lists of list or 2d list\n",
        "lst_ = [[1,2],[3,4]]\n",
        "\n",
        "\n",
        "print(\"{} is of length {}, is of type {}\".format(lst_, len(lst_), type(lst)))"
      ],
      "execution_count": null,
      "outputs": [
        {
          "output_type": "stream",
          "text": [
            "[[1, 2], [3, 4]] of length 2, is of type <class 'list'>\n"
          ],
          "name": "stdout"
        }
      ]
    },
    {
      "cell_type": "markdown",
      "metadata": {
        "id": "SDYrvPYqY5FJ"
      },
      "source": [
        "Tuple\n",
        "\n",
        "Tuple also can be multi dimensional\n",
        "\n",
        "To access an element in the tuple\n",
        ">>> tuple_name[position_of the element] \n",
        "\n",
        "To know the length of the list use\n",
        ">>> len(tuple_name)"
      ]
    },
    {
      "cell_type": "code",
      "metadata": {
        "colab": {
          "base_uri": "https://localhost:8080/"
        },
        "id": "y3tg8Q7SY6wM",
        "outputId": "7e6a9550-dce6-4612-eab0-0de3da2eda00"
      },
      "source": [
        "tup = (1,24,5)\n",
        "\n",
        "print(\"{} is of length {}, is of type {}\".format(tup, len(tup), type(tup)))"
      ],
      "execution_count": null,
      "outputs": [
        {
          "output_type": "stream",
          "text": [
            "(1, 24, 5) of length 3, is of type <class 'tuple'>\n"
          ],
          "name": "stdout"
        }
      ]
    },
    {
      "cell_type": "markdown",
      "metadata": {
        "id": "oBGFpqr9Y_VW"
      },
      "source": [
        "Range\n",
        "\n",
        "Range gives the range of numbers within the specified limit\n",
        ">>> range(start, end, step)\n",
        "\n",
        "but by default it is just range(end)"
      ]
    },
    {
      "cell_type": "code",
      "metadata": {
        "colab": {
          "base_uri": "https://localhost:8080/"
        },
        "id": "Uqex8ri5ZAQ3",
        "outputId": "2986960e-aef6-4a8f-a5eb-69cbf7e2d009"
      },
      "source": [
        "range_ = range(5)\n",
        "print(\"Range\",list(range_))\n"
      ],
      "execution_count": null,
      "outputs": [
        {
          "output_type": "stream",
          "text": [
            "Range [0, 1, 2, 3, 4]\n"
          ],
          "name": "stdout"
        }
      ]
    },
    {
      "cell_type": "markdown",
      "metadata": {
        "id": "PSb1aYXeZK9a"
      },
      "source": [
        "### Mapping Data types"
      ]
    },
    {
      "cell_type": "markdown",
      "metadata": {
        "id": "R6umNEudZOts"
      },
      "source": [
        "Dictionaries\n",
        "\n",
        "Dictionaires are basically Key-value pairs\n",
        "\n",
        "You can acces a value in the dictionary by calling it through key \n",
        "\n",
        ">>> Dicionary_name[key]"
      ]
    },
    {
      "cell_type": "code",
      "metadata": {
        "colab": {
          "base_uri": "https://localhost:8080/"
        },
        "id": "zZVZL-nbZQl4",
        "outputId": "88fd0cd8-611d-4af4-db77-65bbb5c335e6"
      },
      "source": [
        "dic = {'a': 1, 'b' : 2, 'c' : 3}\n",
        "\n",
        "print(\"{} of length {}, is of type {}\".format(dic, len(dic), type(dic)))\n",
        "\n",
        "print(\"You can access a element using dictionary name and the key in square brackets\",dic['a'])\n"
      ],
      "execution_count": null,
      "outputs": [
        {
          "output_type": "stream",
          "text": [
            "{'a': 1, 'b': 2, 'c': 3} of length 3, is of type <class 'dict'>\n",
            "You can access a element using dictionary name and the key in square brackets 1\n"
          ],
          "name": "stdout"
        }
      ]
    },
    {
      "cell_type": "markdown",
      "metadata": {
        "id": "GfAyKAvUZUnk"
      },
      "source": [
        "### Set Data Types\n",
        "\n",
        "Set data Types unique values"
      ]
    },
    {
      "cell_type": "code",
      "metadata": {
        "id": "Zy6UiilmTG1H",
        "colab": {
          "base_uri": "https://localhost:8080/"
        },
        "outputId": "d74e61ff-a614-4241-b8d7-36c452458806"
      },
      "source": [
        "set_ = set([1,2,5,5])\n",
        "\n",
        "print(\"{} is of length {}, is of type {}\".format(set_, len(set_), type(set_)))"
      ],
      "execution_count": null,
      "outputs": [
        {
          "output_type": "stream",
          "text": [
            "{1, 2, 5} is of length 3, is of type <class 'set'>\n"
          ],
          "name": "stdout"
        }
      ]
    },
    {
      "cell_type": "markdown",
      "metadata": {
        "id": "DVuXpR0gZuLp"
      },
      "source": [
        "### Boolean Data types\n",
        "\n",
        "True or False"
      ]
    },
    {
      "cell_type": "code",
      "metadata": {
        "colab": {
          "base_uri": "https://localhost:8080/"
        },
        "id": "o2dKrwdUZxEJ",
        "outputId": "388f5741-cedb-4eff-b8d7-a061d4b731c6"
      },
      "source": [
        "t = True\n",
        "f = False\n",
        "\n",
        "print(type(t))\n",
        "print(type(f))"
      ],
      "execution_count": null,
      "outputs": [
        {
          "output_type": "stream",
          "text": [
            "<class 'bool'>\n",
            "<class 'bool'>\n"
          ],
          "name": "stdout"
        }
      ]
    },
    {
      "cell_type": "markdown",
      "metadata": {
        "id": "h-iL4Yrqe-DW"
      },
      "source": [
        "## PYTHON OPERATORS\n",
        "\n",
        "Arithmetic operators - Addition, Subraction, Multiplication, Division, Modulus, Floor Division, Exponent\n",
        "\n",
        "Comparison operators - Greater than, Less than, Equal to, Not equal to, Greater than or equal to, Less than or equal to\n",
        "\n",
        "Logical operators - and, or, not\n",
        "\n",
        "Bitwise operators - &, |, -, ~, ^, >>, <<\n",
        "\n",
        "Assignment operators - =, +=, -=, *=, /=, %=, //=, **=, (&=, |=, ^=, >>=, <<=)\n",
        "\n",
        "Special operators - is, is not\n",
        "\n",
        "Membership operators - in, not in"
      ]
    },
    {
      "cell_type": "markdown",
      "metadata": {
        "id": "svbQCT7if4N6"
      },
      "source": [
        "### ARITHEMATIC OPERATORS\n",
        "\n",
        "Performs mathematical operations like addition, subtraction, multiplication, etc."
      ]
    },
    {
      "cell_type": "code",
      "metadata": {
        "colab": {
          "base_uri": "https://localhost:8080/"
        },
        "id": "7TR5uUx8hzQJ",
        "outputId": "b8f978ef-2fa0-46f1-a2f7-b5d441c2d845"
      },
      "source": [
        "x, y = 1,3\n",
        "print(\"x is {} y is {}\".format(x,y))"
      ],
      "execution_count": null,
      "outputs": [
        {
          "output_type": "stream",
          "text": [
            "x is 1 y is 3\n"
          ],
          "name": "stdout"
        }
      ]
    },
    {
      "cell_type": "markdown",
      "metadata": {
        "id": "SFUwhAw7m0lK"
      },
      "source": [
        "Addition ' + '\n",
        "\n",
        "Adds values on either side of the operator."
      ]
    },
    {
      "cell_type": "code",
      "metadata": {
        "colab": {
          "base_uri": "https://localhost:8080/"
        },
        "id": "F9Ez1NW2huYQ",
        "outputId": "6ec697fe-ee61-4ae0-92a6-45cbbb4257d8"
      },
      "source": [
        "print(\"Addition of {} {} is equals {} \".format(x,y,x+y))"
      ],
      "execution_count": null,
      "outputs": [
        {
          "output_type": "stream",
          "text": [
            "Addition of 2 3 is equals 5 \n"
          ],
          "name": "stdout"
        }
      ]
    },
    {
      "cell_type": "markdown",
      "metadata": {
        "id": "B9PfmAiCm3TU"
      },
      "source": [
        "Subraction ' - '\n",
        "\n",
        "Subtracts right hand operand from left hand operand."
      ]
    },
    {
      "cell_type": "code",
      "metadata": {
        "colab": {
          "base_uri": "https://localhost:8080/"
        },
        "id": "q1TErUVviD_4",
        "outputId": "288668cb-edd2-4fa3-a874-6134b23d3a34"
      },
      "source": [
        "print(\"Sub of {} {} is equals {} \".format(x,y,x-y))"
      ],
      "execution_count": null,
      "outputs": [
        {
          "output_type": "stream",
          "text": [
            "Sub of 2 3 is equals -1 \n"
          ],
          "name": "stdout"
        }
      ]
    },
    {
      "cell_type": "markdown",
      "metadata": {
        "id": "GIkwR8tKm5Mz"
      },
      "source": [
        "Multiplication ' * '\n",
        "\n",
        "Multiplies values on either side of the operator\n",
        "\n"
      ]
    },
    {
      "cell_type": "code",
      "metadata": {
        "colab": {
          "base_uri": "https://localhost:8080/"
        },
        "id": "iiV0JZJJiJ8B",
        "outputId": "6b98fd27-75bf-4dff-9fa0-4d173a214762"
      },
      "source": [
        "print(\"Multiplication of {} {} is equals {} \".format(x,y,x*y))"
      ],
      "execution_count": null,
      "outputs": [
        {
          "output_type": "stream",
          "text": [
            "Multiplication of 2 3 is equals 6 \n"
          ],
          "name": "stdout"
        }
      ]
    },
    {
      "cell_type": "markdown",
      "metadata": {
        "id": "Xh6uI_3in_Np"
      },
      "source": [
        "Division '/'\n",
        "\n",
        "Divides left hand operand by right hand operand"
      ]
    },
    {
      "cell_type": "code",
      "metadata": {
        "colab": {
          "base_uri": "https://localhost:8080/"
        },
        "id": "dT2kJYcBiQcQ",
        "outputId": "8278a542-835b-4869-b0b8-978f888da0bd"
      },
      "source": [
        "print(\"Division of {} {} is equals  {} \".format(y,x ,y/x))"
      ],
      "execution_count": null,
      "outputs": [
        {
          "output_type": "stream",
          "text": [
            "Division of 3 2 is equals  1.5 \n"
          ],
          "name": "stdout"
        }
      ]
    },
    {
      "cell_type": "markdown",
      "metadata": {
        "id": "Z6FM7IrTroB-"
      },
      "source": [
        "Modulus '%'\n",
        "\n",
        "Divides left hand operand by right hand operand and returns remainder"
      ]
    },
    {
      "cell_type": "code",
      "metadata": {
        "colab": {
          "base_uri": "https://localhost:8080/"
        },
        "id": "FlCKJRRBiZWB",
        "outputId": "9e3c80ed-f100-44c0-e697-f0e9225c1411"
      },
      "source": [
        "print(\"Modulus of {} {} is equals  {} \".format(y,x ,y%x))"
      ],
      "execution_count": null,
      "outputs": [
        {
          "output_type": "stream",
          "text": [
            "Modulus of 3 2 is equals  1 \n"
          ],
          "name": "stdout"
        }
      ]
    },
    {
      "cell_type": "markdown",
      "metadata": {
        "id": "U_PPbX3lrppu"
      },
      "source": [
        "Floor Division '//'\n",
        "\n",
        "The division of operands where the result is the quotient in which the digits after the decimal point are removed."
      ]
    },
    {
      "cell_type": "code",
      "metadata": {
        "colab": {
          "base_uri": "https://localhost:8080/"
        },
        "id": "J0QJOrIGinqy",
        "outputId": "6f2ee548-066f-4438-9a81-bd4e0a974adb"
      },
      "source": [
        "x = 15\n",
        "y = 4\n",
        "print(\"Floor of {} {} is equals  {} \".format(x,y , x//y))"
      ],
      "execution_count": null,
      "outputs": [
        {
          "output_type": "stream",
          "text": [
            "Floor of 15 4 is equals  3 \n"
          ],
          "name": "stdout"
        }
      ]
    },
    {
      "cell_type": "markdown",
      "metadata": {
        "id": "y5GgiiqK5ZEG"
      },
      "source": [
        "Exponent '**'\n",
        "\n",
        "Performs exponential (power) calculation on operators"
      ]
    },
    {
      "cell_type": "code",
      "metadata": {
        "colab": {
          "base_uri": "https://localhost:8080/"
        },
        "id": "jtKPVGPNizH5",
        "outputId": "e4660990-2089-4a61-b2f9-ec7411809bdf"
      },
      "source": [
        "x = 3\n",
        "y = 4\n",
        "print(\"Exponent of {} {} is equals  {} \".format(x,y , x**y))"
      ],
      "execution_count": null,
      "outputs": [
        {
          "output_type": "stream",
          "text": [
            "Exponent of 3 4 is equals  81 \n"
          ],
          "name": "stdout"
        }
      ]
    },
    {
      "cell_type": "markdown",
      "metadata": {
        "id": "5JCDzrLWf9Vr"
      },
      "source": [
        "### COMPARISION OPERATORS"
      ]
    },
    {
      "cell_type": "markdown",
      "metadata": {
        "id": "YjarOuid8WLt"
      },
      "source": [
        "Compares values. Return either True or False "
      ]
    },
    {
      "cell_type": "markdown",
      "metadata": {
        "id": "X6OM5DDfjP1m"
      },
      "source": [
        ">, <, =, >=, <=, =="
      ]
    },
    {
      "cell_type": "markdown",
      "metadata": {
        "id": "3-_2jSbe8fvt"
      },
      "source": [
        "Graeter than ' > '\n",
        "\n",
        "True if left operand is greater than the right"
      ]
    },
    {
      "cell_type": "code",
      "metadata": {
        "colab": {
          "base_uri": "https://localhost:8080/"
        },
        "id": "plZi60B3gBSn",
        "outputId": "a48c79c4-b809-4ce0-86a6-4a09c1502a23"
      },
      "source": [
        "x = 10\n",
        "y = 12\n",
        "print(\"{} is greater than {}. This statement is {} \".format(x,y,x>y))"
      ],
      "execution_count": null,
      "outputs": [
        {
          "output_type": "stream",
          "text": [
            "10 is greater than 12. This statement is False \n"
          ],
          "name": "stdout"
        }
      ]
    },
    {
      "cell_type": "markdown",
      "metadata": {
        "id": "vyXjWQKv8xN4"
      },
      "source": [
        "Less Than  ' < '\n",
        "\n",
        "True if left operand is less than the right"
      ]
    },
    {
      "cell_type": "code",
      "metadata": {
        "colab": {
          "base_uri": "https://localhost:8080/"
        },
        "id": "jtia3PEF8533",
        "outputId": "7a9a06a0-eba0-459b-8dd5-7de374c5714b"
      },
      "source": [
        "x = 10\n",
        "y = 12\n",
        "print(\"{} is less than {}. This statement is {} \".format(x,y,x<y))"
      ],
      "execution_count": null,
      "outputs": [
        {
          "output_type": "stream",
          "text": [
            "10 is less than 12. This statement is True \n"
          ],
          "name": "stdout"
        }
      ]
    },
    {
      "cell_type": "markdown",
      "metadata": {
        "id": "fKT3WiJY9Flm"
      },
      "source": [
        "Equals to '=='\n",
        "\n",
        "Equal to - True if both operands are equal"
      ]
    },
    {
      "cell_type": "code",
      "metadata": {
        "colab": {
          "base_uri": "https://localhost:8080/"
        },
        "id": "q8vPh-Wh8_C_",
        "outputId": "8fa81d22-89e8-4a6d-c97f-31309e3fbe4f"
      },
      "source": [
        "print(\"{} is equals than {}. This statement is {} \".format(x,y,x==y))"
      ],
      "execution_count": null,
      "outputs": [
        {
          "output_type": "stream",
          "text": [
            "10 is equals than 12. This statement is False \n"
          ],
          "name": "stdout"
        }
      ]
    },
    {
      "cell_type": "markdown",
      "metadata": {
        "id": "FL9Rok2C9RmS"
      },
      "source": [
        "Not Equal to '!='\n",
        "\t\n",
        "  Not equal to - True if operands are not equal"
      ]
    },
    {
      "cell_type": "code",
      "metadata": {
        "colab": {
          "base_uri": "https://localhost:8080/"
        },
        "id": "vin-0U-O9REV",
        "outputId": "e35c3fbb-f097-438c-b729-14438b29a132"
      },
      "source": [
        "print(\"{} is not equals than {}. This statement is {} \".format(x,y,x!=y))"
      ],
      "execution_count": null,
      "outputs": [
        {
          "output_type": "stream",
          "text": [
            "10 is not equals than 12. This statement is False \n"
          ],
          "name": "stdout"
        }
      ]
    },
    {
      "cell_type": "markdown",
      "metadata": {
        "id": "6Q9_sZn69jqC"
      },
      "source": [
        "Greater than or equal to ' >= '\n",
        "\n",
        "True if left operand is greater than or equal to the right"
      ]
    },
    {
      "cell_type": "code",
      "metadata": {
        "colab": {
          "base_uri": "https://localhost:8080/"
        },
        "id": "1v7KAcoW9id1",
        "outputId": "da911126-5658-4bb9-bc56-63c658415767"
      },
      "source": [
        "x = 5\n",
        "y = 4\n",
        "print(\"{} is greater than equal to {}. This statement is {} \".format(x,y,x>=y))"
      ],
      "execution_count": null,
      "outputs": [
        {
          "output_type": "stream",
          "text": [
            "5 is not equals than 4. This statement is True \n"
          ],
          "name": "stdout"
        }
      ]
    },
    {
      "cell_type": "markdown",
      "metadata": {
        "id": "-eMiDNXS937T"
      },
      "source": [
        "Less than or equal to   ' <=\t'"
      ]
    },
    {
      "cell_type": "code",
      "metadata": {
        "colab": {
          "base_uri": "https://localhost:8080/"
        },
        "id": "TQvrnKoB9208",
        "outputId": "03e738d6-d0ef-40a5-e828-8be9cce69f06"
      },
      "source": [
        "print(\"{} is less than equal to {}. This statement is {} \".format(x,y,x<=y))"
      ],
      "execution_count": null,
      "outputs": [
        {
          "output_type": "stream",
          "text": [
            "5 is less than equal to 4. This statement is False \n"
          ],
          "name": "stdout"
        }
      ]
    },
    {
      "cell_type": "markdown",
      "metadata": {
        "id": "PPeJzUAYgByM"
      },
      "source": [
        "### LOGICAL OPERATORS\n",
        "\n",
        "and, or, not operators"
      ]
    },
    {
      "cell_type": "markdown",
      "metadata": {
        "id": "of4blxQ--Up6"
      },
      "source": [
        "NOT"
      ]
    },
    {
      "cell_type": "code",
      "metadata": {
        "colab": {
          "base_uri": "https://localhost:8080/"
        },
        "id": "whYbdKiugE-8",
        "outputId": "300b111b-c27e-4ec8-ee01-cf5b96a1f565"
      },
      "source": [
        "a = True\n",
        "b = 1 == 3\n",
        "c = 4>2\n",
        "print(a,b,c)\n",
        "\n",
        "print(\"not of {} is {}\".format(b,not b))"
      ],
      "execution_count": null,
      "outputs": [
        {
          "output_type": "stream",
          "text": [
            "True False True\n",
            "not oof False is True\n"
          ],
          "name": "stdout"
        }
      ]
    },
    {
      "cell_type": "markdown",
      "metadata": {
        "id": "ZEi9FifB-Lld"
      },
      "source": [
        "AND"
      ]
    },
    {
      "cell_type": "code",
      "metadata": {
        "colab": {
          "base_uri": "https://localhost:8080/"
        },
        "id": "QgklwNe3-M5s",
        "outputId": "95e0f1d3-aab1-4e46-9284-f5ae7d05c6c8"
      },
      "source": [
        "a = True\n",
        "b = 1 == 3\n",
        "print(\"{} and {} is \\n{}\".format(a,b, a and b))"
      ],
      "execution_count": null,
      "outputs": [
        {
          "output_type": "stream",
          "text": [
            "True and False is \n",
            "False\n"
          ],
          "name": "stdout"
        }
      ]
    },
    {
      "cell_type": "markdown",
      "metadata": {
        "id": "bVfDkJr8-YAO"
      },
      "source": [
        "OR"
      ]
    },
    {
      "cell_type": "code",
      "metadata": {
        "colab": {
          "base_uri": "https://localhost:8080/"
        },
        "id": "xsb9vyZ2-ZYs",
        "outputId": "43782586-1a8e-43f2-d928-318cdadd2527"
      },
      "source": [
        "print(\"{} or {} is \\n{}\".format(a,b, a or b))"
      ],
      "execution_count": null,
      "outputs": [
        {
          "output_type": "stream",
          "text": [
            "True or False is \n",
            "True\n"
          ],
          "name": "stdout"
        }
      ]
    },
    {
      "cell_type": "markdown",
      "metadata": {
        "id": "IDObRaA4gFeT"
      },
      "source": [
        "### BITWISE OPERATORS"
      ]
    },
    {
      "cell_type": "markdown",
      "metadata": {
        "id": "E6JCkmlVkIcR"
      },
      "source": [
        "4 bits  \n",
        "\n",
        "$2^3, 2^2,2^1,2^0$\n",
        "\n",
        "8, 4,   2,  1"
      ]
    },
    {
      "cell_type": "markdown",
      "metadata": {
        "id": "_-R6QeU5_cC5"
      },
      "source": [
        "Bitwise AND ' & '"
      ]
    },
    {
      "cell_type": "code",
      "metadata": {
        "colab": {
          "base_uri": "https://localhost:8080/"
        },
        "id": "HoPyEfyS_h5K",
        "outputId": "0ea4d689-a38e-4859-f067-7cb308f02fdc"
      },
      "source": [
        "x = 10 # 0000 1010\n",
        "y = 4  # 0000 0100\n",
        "\n",
        "print(\"{} & {} is {}\".format(x,y,x & y)) # 0000 0000"
      ],
      "execution_count": null,
      "outputs": [
        {
          "output_type": "stream",
          "text": [
            "10 & 4 is 0\n"
          ],
          "name": "stdout"
        }
      ]
    },
    {
      "cell_type": "markdown",
      "metadata": {
        "id": "JDms4PdZ_ogt"
      },
      "source": [
        "Bitwise OR ' | '"
      ]
    },
    {
      "cell_type": "code",
      "metadata": {
        "colab": {
          "base_uri": "https://localhost:8080/"
        },
        "id": "lPk_lYfx_r8s",
        "outputId": "9218934a-f878-4ca8-836e-4710b67a960e"
      },
      "source": [
        "x = 10 # 0000 1010\n",
        "y = 4  # 0000 0100\n",
        "\n",
        "print(\"{} | {} is {}\".format(x,y,x | y)) "
      ],
      "execution_count": null,
      "outputs": [
        {
          "output_type": "stream",
          "text": [
            "10 | 4 is 14\n"
          ],
          "name": "stdout"
        }
      ]
    },
    {
      "cell_type": "markdown",
      "metadata": {
        "id": "qW0FiVpQ_1W2"
      },
      "source": [
        "Bitwise NOT ' ~ '"
      ]
    },
    {
      "cell_type": "code",
      "metadata": {
        "colab": {
          "base_uri": "https://localhost:8080/"
        },
        "id": "-KNg5-cz__g8",
        "outputId": "5d630d31-9d3f-44a1-a1b1-f27c7adc1661"
      },
      "source": [
        "print(\"not\", ~2) # 0000 0101"
      ],
      "execution_count": null,
      "outputs": [
        {
          "output_type": "stream",
          "text": [
            "not -3\n"
          ],
          "name": "stdout"
        }
      ]
    },
    {
      "cell_type": "markdown",
      "metadata": {
        "id": "5Buf5D_I_uaZ"
      },
      "source": [
        "Bitwise XOR ' ^ '"
      ]
    },
    {
      "cell_type": "code",
      "metadata": {
        "colab": {
          "base_uri": "https://localhost:8080/"
        },
        "id": "CaWXCFRNgKMl",
        "outputId": "ce5e0600-9836-4389-fb3e-9efce25b4227"
      },
      "source": [
        "print(\"{} ^ {} is {}\".format(x, y, x ^ y))  # 0000 1110"
      ],
      "execution_count": null,
      "outputs": [
        {
          "output_type": "stream",
          "text": [
            "5 ^ 4 is 1\n"
          ],
          "name": "stdout"
        }
      ]
    },
    {
      "cell_type": "markdown",
      "metadata": {
        "id": "SzVETXzPEKGM"
      },
      "source": [
        "Bitwise right shift ' >>'\n"
      ]
    },
    {
      "cell_type": "code",
      "metadata": {
        "id": "2vAL4A3_EQzY"
      },
      "source": [
        "print(\"{} >> {} is {}\".format(x,y,x >> y)) # 000 0010"
      ],
      "execution_count": null,
      "outputs": []
    },
    {
      "cell_type": "markdown",
      "metadata": {
        "id": "pOeEGuJyEHIC"
      },
      "source": [
        ""
      ]
    },
    {
      "cell_type": "markdown",
      "metadata": {
        "id": "UT3GFC96gK0t"
      },
      "source": [
        "### ASSIGNMENT OPERATORS"
      ]
    },
    {
      "cell_type": "markdown",
      "metadata": {
        "id": "50YCUYDfM2qn"
      },
      "source": [
        "Assigning the Values"
      ]
    },
    {
      "cell_type": "code",
      "metadata": {
        "id": "w1ojJIMtgN-6"
      },
      "source": [
        "x = 5\n",
        "x += 2\t# x = x + 5\n",
        "x -= 2\t# x = x - 5\n",
        "x *= 2\t# x = x * 5\n",
        "x /= 2\t# x = x / 5\n",
        "x %= 2\t# x = x % 5\n",
        "x //= 2\t# x = x // 5\n",
        "x **= 2\t# x = x ** 5\n",
        "x &= 2\t# x = x & 5\n",
        "x |= 2\t# x = x | 5"
      ],
      "execution_count": null,
      "outputs": []
    },
    {
      "cell_type": "markdown",
      "metadata": {
        "id": "WBDgX-WpgOXF"
      },
      "source": [
        "### SPECIAL OPERATORS\n",
        "\n",
        "`is ` and \n",
        "`is not` are identity operators\n",
        "These operators return boolean values"
      ]
    },
    {
      "cell_type": "markdown",
      "metadata": {
        "id": "QK1uMhhNM6dZ"
      },
      "source": [
        "IS"
      ]
    },
    {
      "cell_type": "code",
      "metadata": {
        "colab": {
          "base_uri": "https://localhost:8080/"
        },
        "id": "HMBcZ6hhgRFV",
        "outputId": "058d7daa-9d5c-4a64-aebf-6ffa4454225b"
      },
      "source": [
        "x = True\n",
        "print(x is True)"
      ],
      "execution_count": null,
      "outputs": [
        {
          "output_type": "stream",
          "text": [
            "True\n"
          ],
          "name": "stdout"
        }
      ]
    },
    {
      "cell_type": "markdown",
      "metadata": {
        "id": "oyAwNw-HOK2y"
      },
      "source": [
        "IS NOT"
      ]
    },
    {
      "cell_type": "code",
      "metadata": {
        "colab": {
          "base_uri": "https://localhost:8080/"
        },
        "id": "g_WyGbxIONFp",
        "outputId": "7e54bcc2-bce5-4ce5-c412-9d0e99b86953"
      },
      "source": [
        "x = \"Hello\"\n",
        "y = \"Hello\"\n",
        "print(x is not y)"
      ],
      "execution_count": null,
      "outputs": [
        {
          "output_type": "stream",
          "text": [
            "False\n"
          ],
          "name": "stdout"
        }
      ]
    },
    {
      "cell_type": "markdown",
      "metadata": {
        "id": "-sIfYLTlgRnz"
      },
      "source": [
        "### MEMBERSHIP OPERATORS"
      ]
    },
    {
      "cell_type": "markdown",
      "metadata": {
        "id": "KPyqm5fNpHOw"
      },
      "source": [
        "`in` and `not in` are membership operators\n",
        "They return True or False values"
      ]
    },
    {
      "cell_type": "code",
      "metadata": {
        "colab": {
          "base_uri": "https://localhost:8080/"
        },
        "id": "8syPC0XTgUij",
        "outputId": "8fdd743b-8de9-403b-fe86-b269322161b8"
      },
      "source": [
        "x = \"hello world\"\n",
        "print(\"hello\" in x)\n",
        "\n",
        "lst = [1,2,3,4,5]\n",
        "print(4 in  lst)\n",
        "\n",
        "y = {'a' : 1, \"b\": 2}\n",
        "print('a' in y)"
      ],
      "execution_count": null,
      "outputs": [
        {
          "output_type": "stream",
          "text": [
            "True\n",
            "True\n",
            "True\n"
          ],
          "name": "stdout"
        }
      ]
    },
    {
      "cell_type": "markdown",
      "metadata": {
        "id": "hANNtCTdJR6I"
      },
      "source": [
        "## OPERATIONS ON SEQUENCE DATA TYPES"
      ]
    },
    {
      "cell_type": "markdown",
      "metadata": {
        "id": "V_suuYz66LzF"
      },
      "source": [
        "Immutable: a sequence type that cannot be modified once created\n",
        "\n",
        "Mutable: a sequence type that cannot be modified once created"
      ]
    },
    {
      "cell_type": "markdown",
      "metadata": {
        "id": "HdqkcaThJqUq"
      },
      "source": [
        "### OPERATIONS ON STRING"
      ]
    },
    {
      "cell_type": "markdown",
      "metadata": {
        "id": "iB2G82wGT0vm"
      },
      "source": [
        "Strings are Immutable. This means that elements of a string cannot be changed once they have been assigned. We can simply reassign different strings to the same name."
      ]
    },
    {
      "cell_type": "code",
      "metadata": {
        "colab": {
          "base_uri": "https://localhost:8080/"
        },
        "id": "0XzAW9jT7wT3",
        "outputId": "fa878d82-dede-4134-a8fd-d34d997b813e"
      },
      "source": [
        "string = \"Python Programming\"\n",
        "print('The string = ', string )"
      ],
      "execution_count": null,
      "outputs": [
        {
          "output_type": "stream",
          "text": [
            "The string =  Python Programming\n"
          ],
          "name": "stdout"
        }
      ]
    },
    {
      "cell_type": "code",
      "metadata": {
        "colab": {
          "base_uri": "https://localhost:8080/"
        },
        "id": "JobYgXWyQ08G",
        "outputId": "da49a723-1eb9-4d8b-b047-23ae28ff7231"
      },
      "source": [
        "new_dict = {\"A\" : \"Apple\", \"B\" : \"Ball\", \"C\" : \"Cat\"}\n",
        "\n",
        "print(\"The keys of the dictionary are \", new_dict.items(),\" and their associated values are\", new_dict.values())"
      ],
      "execution_count": null,
      "outputs": [
        {
          "output_type": "stream",
          "text": [
            "The keys of the dictionary are  dict_items([('A', 'Apple'), ('B', 'Ball'), ('C', 'Cat')])  and their associated values are dict_values(['Apple', 'Ball', 'Cat'])\n"
          ],
          "name": "stdout"
        }
      ]
    },
    {
      "cell_type": "markdown",
      "metadata": {
        "id": "MBv28QTJIjSW"
      },
      "source": [
        "Formatting the string"
      ]
    },
    {
      "cell_type": "code",
      "metadata": {
        "colab": {
          "base_uri": "https://localhost:8080/"
        },
        "id": "ok5dO9K9IltZ",
        "outputId": "99dcb860-5c20-4faf-9654-afb04fe5c5ce"
      },
      "source": [
        "# Python string format() method\n",
        "\n",
        "# default(implicit) order\n",
        "default_order = \"{}, {} and {}\".format('One','Two','Three')\n",
        "print('Default Order -', default_order)\n",
        "\n",
        "# order using positional argument\n",
        "positional_order = \"{1}, {0} and {2}\".format('Hello','World','Friend')\n",
        "print('Positional Order -', positional_order )\n",
        "\n",
        "# order using keyword argument\n",
        "keyword_order = \"{f}, {h} and {w}\".format(h = 'Hello',w = 'World',f ='Friend')\n",
        "print('Keyword Order -', keyword_order)\n"
      ],
      "execution_count": null,
      "outputs": [
        {
          "output_type": "stream",
          "text": [
            "Default Order - One, Two and Three\n",
            "Positional Order - World, Hello and Friend\n",
            "Keyword Order - Friend, Hello and World\n"
          ],
          "name": "stdout"
        }
      ]
    },
    {
      "cell_type": "code",
      "metadata": {
        "colab": {
          "base_uri": "https://localhost:8080/"
        },
        "id": "dWGwons0BYEL",
        "outputId": "8a617ad5-98e8-4116-c3e0-459309914734"
      },
      "source": [
        "# two string literals together\n",
        "print('Hello ''World!')\n",
        "\n",
        "# using parentheses\n",
        "s = ('Hello ' 'World')\n",
        "print(s)"
      ],
      "execution_count": null,
      "outputs": [
        {
          "output_type": "stream",
          "text": [
            "Hello World!\n",
            "Hello World\n"
          ],
          "name": "stdout"
        }
      ]
    },
    {
      "cell_type": "markdown",
      "metadata": {
        "id": "--sB1ioZ74KT"
      },
      "source": [
        "**Slicing**"
      ]
    },
    {
      "cell_type": "code",
      "metadata": {
        "colab": {
          "base_uri": "https://localhost:8080/"
        },
        "id": "rtpk7YDo765A",
        "outputId": "6aacbee8-95f1-4c43-e0e3-21b3ea93bd95"
      },
      "source": [
        "# Slicing \n",
        "print(\"index 0 of string '{}' is : {}\".format(string, string[0]))\n",
        "print(\"first 6 letters of string '{}' are : {} \".format(string,string[0:6]))\n",
        "print(\"string last digit of string '{}' is : {} \".format(string, string[-1]))\n",
        "print(\"string second last digit of string '{}' is : {} \".format(string, string[-2]))"
      ],
      "execution_count": null,
      "outputs": [
        {
          "output_type": "stream",
          "text": [
            "index 0 of string 'Python Programming' is : P\n",
            "first 6 letters of string 'Python Programming' are : Python \n",
            "string last digit of string 'Python Programming' is : g \n",
            "string second last digit of string 'Python Programming' is : n \n"
          ],
          "name": "stdout"
        }
      ]
    },
    {
      "cell_type": "markdown",
      "metadata": {
        "id": "wCtOUeOv7-Oz"
      },
      "source": [
        "**Reverse The String** "
      ]
    },
    {
      "cell_type": "code",
      "metadata": {
        "colab": {
          "base_uri": "https://localhost:8080/"
        },
        "id": "mU8gNFIa8IYh",
        "outputId": "a05ec750-f806-4ab8-db3b-63876d962344"
      },
      "source": [
        "#Reversing the string\n",
        "print('string = ', string[::-1])"
      ],
      "execution_count": null,
      "outputs": [
        {
          "output_type": "stream",
          "text": [
            "string =  gnimmargorP nohtyP\n"
          ],
          "name": "stdout"
        }
      ]
    },
    {
      "cell_type": "markdown",
      "metadata": {
        "id": "BmAkTFAe8q-V"
      },
      "source": [
        "**Deleting the elememt in the string**"
      ]
    },
    {
      "cell_type": "code",
      "metadata": {
        "colab": {
          "base_uri": "https://localhost:8080/"
        },
        "id": "lUIPl-jr-AuV",
        "outputId": "d4b21ab3-fb98-43fc-e348-5e2d5ec67026"
      },
      "source": [
        "#Deleting the elememt in the string\n",
        "new_string = \"PPython\"\n",
        "print(\"new_string\", new_string)\n",
        "del new_string\n",
        "# print(\"new_string\", new_string)"
      ],
      "execution_count": null,
      "outputs": [
        {
          "output_type": "stream",
          "text": [
            "new_string PPython\n"
          ],
          "name": "stdout"
        }
      ]
    },
    {
      "cell_type": "markdown",
      "metadata": {
        "id": "DYmm60sX-Z1T"
      },
      "source": [
        "**ESACPE SEQUENCES**\n",
        "\n",
        "Use '\\\\' before escape sequence in order to print them in your code"
      ]
    },
    {
      "cell_type": "code",
      "metadata": {
        "colab": {
          "base_uri": "https://localhost:8080/"
        },
        "id": "E6b450_zFCX9",
        "outputId": "af040b7b-f90f-4897-9ce2-f667c0409ea3"
      },
      "source": [
        "# Escape sequence\n",
        "print(\"Einstein quoted \\n \\\"All is Well\\\" \")\n",
        "print(\"Print newline character \\\\n in this string using escape\")\n",
        "print(\"C:\\\\Python32\\\\Lib\")"
      ],
      "execution_count": null,
      "outputs": [
        {
          "output_type": "stream",
          "text": [
            "Einstein quoted \n",
            " \"All is Well\" \n",
            "Print newline character \\n in this string using escape\n",
            "C:\\Python32\\Lib\n"
          ],
          "name": "stdout"
        }
      ]
    },
    {
      "cell_type": "markdown",
      "metadata": {
        "id": "JiDF3TTUFdKQ"
      },
      "source": [
        "**Raw String to ignore escape sequence**\n",
        "\n",
        "\n",
        "\n",
        "```\n",
        "print(r' your raw string ')\n",
        "```\n",
        "\n"
      ]
    },
    {
      "cell_type": "code",
      "metadata": {
        "colab": {
          "base_uri": "https://localhost:8080/"
        },
        "id": "3-oGh7uG-nNr",
        "outputId": "3025e4b8-d221-4104-e4b8-aae3d68a54be"
      },
      "source": [
        "# With raw string\n",
        "print(r\"This is \\t \\n test example\")\n",
        "# Without raw string\n",
        "print(\"This is \\t \\n test example\")"
      ],
      "execution_count": null,
      "outputs": [
        {
          "output_type": "stream",
          "text": [
            "This is \\t \\n test example\n",
            "This is \t \n",
            " test example\n"
          ],
          "name": "stdout"
        }
      ]
    },
    {
      "cell_type": "markdown",
      "metadata": {
        "id": "11Om0mEy-uP-"
      },
      "source": [
        "**String Concatenation**"
      ]
    },
    {
      "cell_type": "code",
      "metadata": {
        "colab": {
          "base_uri": "https://localhost:8080/"
        },
        "id": "rkbEHxd8-y7F",
        "outputId": "0b396284-769e-471d-e439-625c239aa784"
      },
      "source": [
        "new_string = \"Concepts\"\n",
        "concatenated_string = string + \" \" + new_string\n",
        "print(\"Concatenating both strings '{}' and '{}' gives : '{}'\".format(string, new_string, concatenated_string))"
      ],
      "execution_count": null,
      "outputs": [
        {
          "output_type": "stream",
          "text": [
            "Concatenating both strings 'Python Programming' and 'Concepts' gives : 'Python Programming Concepts'\n"
          ],
          "name": "stdout"
        }
      ]
    },
    {
      "cell_type": "markdown",
      "metadata": {
        "id": "uuVZy6BT_1sl"
      },
      "source": [
        "**String Repetation / Multiplication**"
      ]
    },
    {
      "cell_type": "code",
      "metadata": {
        "colab": {
          "base_uri": "https://localhost:8080/"
        },
        "id": "PQYpEmyd_6em",
        "outputId": "5a1fef34-8cfa-48e6-f8dc-b96ff03fbe42"
      },
      "source": [
        "num = 4\n",
        "repeat_string = 'Repeat'\n",
        "print(\"Repeat '{}' {} times: {} \".format(repeat_string,num, repeat_string * num))"
      ],
      "execution_count": null,
      "outputs": [
        {
          "output_type": "stream",
          "text": [
            "Repeat 'Repeat' 4 times: RepeatRepeatRepeatRepeat \n"
          ],
          "name": "stdout"
        }
      ]
    },
    {
      "cell_type": "markdown",
      "metadata": {
        "id": "TLsWuihHCg6f"
      },
      "source": [
        "**String Membership Test**"
      ]
    },
    {
      "cell_type": "code",
      "metadata": {
        "colab": {
          "base_uri": "https://localhost:8080/"
        },
        "id": "99YS07FkB2oI",
        "outputId": "0d6131ef-b73a-488f-c634-827ad9afdd70"
      },
      "source": [
        "# Find if a letter is in a string\n",
        "print(\"a\" in string)\n",
        "print(\"a\" in new_string)"
      ],
      "execution_count": null,
      "outputs": [
        {
          "output_type": "stream",
          "text": [
            "True\n",
            "False\n"
          ],
          "name": "stdout"
        }
      ]
    },
    {
      "cell_type": "code",
      "metadata": {
        "colab": {
          "base_uri": "https://localhost:8080/"
        },
        "id": "9CU-w8awCA4Y",
        "outputId": "42953d98-50af-43c1-b46c-2c947c2a5113"
      },
      "source": [
        "print(\"length of the string\", len(string))\n",
        "print(\"enumerate\", list(enumerate(string)))"
      ],
      "execution_count": null,
      "outputs": [
        {
          "output_type": "stream",
          "text": [
            "length of the string 18\n",
            "enumerate [(0, 'P'), (1, 'y'), (2, 't'), (3, 'h'), (4, 'o'), (5, 'n'), (6, ' '), (7, 'P'), (8, 'r'), (9, 'o'), (10, 'g'), (11, 'r'), (12, 'a'), (13, 'm'), (14, 'm'), (15, 'i'), (16, 'n'), (17, 'g')]\n"
          ],
          "name": "stdout"
        }
      ]
    },
    {
      "cell_type": "markdown",
      "metadata": {
        "id": "P27uMmJYDst3"
      },
      "source": [
        "**Turn to** **Upper case** / **Lower case**"
      ]
    },
    {
      "cell_type": "code",
      "metadata": {
        "colab": {
          "base_uri": "https://localhost:8080/"
        },
        "id": "bZhh9_FxDvpJ",
        "outputId": "f3132f32-ae4b-4df5-a208-9bfcf21024bf"
      },
      "source": [
        "print(\"Turn '{}' into lower case '{}'\".format(string,string.lower()))\n",
        "print(\"Turn '{}' into upper case '{}'\".format(string,string.upper()))"
      ],
      "execution_count": null,
      "outputs": [
        {
          "output_type": "stream",
          "text": [
            "Turn 'Python Programming' into lower case 'python programming'\n",
            "Turn 'Python Programming' into upper case 'PYTHON PROGRAMMING'\n"
          ],
          "name": "stdout"
        }
      ]
    },
    {
      "cell_type": "markdown",
      "metadata": {
        "id": "6KxQpu2AMUES"
      },
      "source": [
        "**Find a element/ part of the string**"
      ]
    },
    {
      "cell_type": "code",
      "metadata": {
        "colab": {
          "base_uri": "https://localhost:8080/"
        },
        "id": "OXnoJ8dBMYpJ",
        "outputId": "bda87b09-8343-4981-fcb0-4b04968dc494"
      },
      "source": [
        "index = string.find(\"thon\")\n",
        "print(\" '{}' can be found starting at the index {}\".format(string, index))"
      ],
      "execution_count": null,
      "outputs": [
        {
          "output_type": "stream",
          "text": [
            " 'Python Programming' can be found starting at the index 2\n"
          ],
          "name": "stdout"
        }
      ]
    },
    {
      "cell_type": "markdown",
      "metadata": {
        "id": "bcKIFVghNS4C"
      },
      "source": [
        "**Replace a part of string**"
      ]
    },
    {
      "cell_type": "code",
      "metadata": {
        "colab": {
          "base_uri": "https://localhost:8080/"
        },
        "id": "bUb6gLB_NWav",
        "outputId": "8c5a6243-c3ef-4dd4-e55b-bd1790f670e6"
      },
      "source": [
        "# Replacing \"Happy\" with \"Awesome\"\n",
        "print(\"Happy new year\".replace(\"Happy\", \"Awesome\"))"
      ],
      "execution_count": null,
      "outputs": [
        {
          "output_type": "stream",
          "text": [
            "Awesome new year\n"
          ],
          "name": "stdout"
        }
      ]
    },
    {
      "cell_type": "markdown",
      "metadata": {
        "id": "HtcxHjTeNmFE"
      },
      "source": [
        "**Split the string**\n",
        "\n",
        "Split the words in the string to the list\n",
        "\n",
        "Default - it is sepearated by white space\n",
        "\n",
        "To seprate it with ','       ------        string.split(',')\n",
        "\n",
        "\n",
        "\n",
        "```\n",
        "the_string.split(character)\n",
        "```\n",
        "\n"
      ]
    },
    {
      "cell_type": "code",
      "metadata": {
        "colab": {
          "base_uri": "https://localhost:8080/"
        },
        "id": "Oi3eJBOCJp6N",
        "outputId": "0932fc1a-5c05-47ee-cb27-82c91d940b90"
      },
      "source": [
        "print(string.split())\n",
        "print(\"This is    how it is\".strip())"
      ],
      "execution_count": null,
      "outputs": [
        {
          "output_type": "stream",
          "text": [
            "['Python', 'Programming']\n",
            "This is    how it is\n"
          ],
          "name": "stdout"
        }
      ]
    },
    {
      "cell_type": "markdown",
      "metadata": {
        "id": "U91nJq8QJshA"
      },
      "source": [
        "### OPERATIONS ON LISTS\n",
        "\n",
        "Lists are Mutable"
      ]
    },
    {
      "cell_type": "code",
      "metadata": {
        "colab": {
          "base_uri": "https://localhost:8080/"
        },
        "id": "R4lhrjwuPpOh",
        "outputId": "815b23d4-a778-4133-f471-95303e1b70ec"
      },
      "source": [
        "list1 = [1,32,345,5,67]\n",
        "print(\"Here is the list {}\".format(list1))\n",
        "\n",
        "# Lists of list\n",
        "list2 = [[1,2],[3,4],[5,6]]\n",
        "print(\"Here is the lists of lists {}\".format(list2))\n",
        "\n",
        "# Lists with multiple elements\n",
        "list3 = [\"list\",[3,4],5,6.6]\n",
        "print(\"Here is the lists with multiple elements {}\".format(list3))"
      ],
      "execution_count": null,
      "outputs": [
        {
          "output_type": "stream",
          "text": [
            "Here is the list [1, 32, 345, 5, 67]\n",
            "Here is the lists of lists [[1, 2], [3, 4], [5, 6]]\n",
            "Here is the lists with multiple elements ['list', [3, 4], 5, 6.6]\n"
          ],
          "name": "stdout"
        }
      ]
    },
    {
      "cell_type": "markdown",
      "metadata": {
        "id": "8Qo0N7YmUCp5"
      },
      "source": [
        "Slicing"
      ]
    },
    {
      "cell_type": "code",
      "metadata": {
        "colab": {
          "base_uri": "https://localhost:8080/"
        },
        "id": "0lAzfPeqQv-T",
        "outputId": "4bb4f8a9-ca3c-40f7-c903-0cb54fffc247"
      },
      "source": [
        "# Slicing \n",
        "\n",
        "print(\"index 0 of list {} is : {}\".format(list1, list1[0]))\n",
        "print(\"first 4 elements of list {} are : {} \".format(list1,list1[0:4]))\n",
        "print(\"Last elements of list {} is : {} \".format(list1, list1[-1]))\n",
        "print(\"Second last element of list {} is : {} \".format(list1, list1[-2]))\n",
        "print(list_[1:-1])"
      ],
      "execution_count": null,
      "outputs": [
        {
          "output_type": "stream",
          "text": [
            "index 0 of list [1, 32, 3, 5, 67, 4, 4] is : 1\n",
            "first 4 elements of list [1, 32, 3, 5, 67, 4, 4] are : [1, 32, 3, 5] \n",
            "Last elements of list [1, 32, 3, 5, 67, 4, 4] is : 4 \n",
            "Second last element of list [1, 32, 3, 5, 67, 4, 4] is : 4 \n",
            "[]\n"
          ],
          "name": "stdout"
        }
      ]
    },
    {
      "cell_type": "markdown",
      "metadata": {
        "id": "XNbl9k6xRoUK"
      },
      "source": [
        "**Lists are mutable**,\n",
        "\n",
        "We can modified a specific element in the lsit"
      ]
    },
    {
      "cell_type": "code",
      "metadata": {
        "colab": {
          "base_uri": "https://localhost:8080/"
        },
        "id": "3-1nUdX2Sls4",
        "outputId": "8b06b868-0699-449c-a8b4-b2b2a9e607f7"
      },
      "source": [
        "print(list1[2:-1])\n",
        "list1[2] = 3\n",
        "print(list1)"
      ],
      "execution_count": null,
      "outputs": [
        {
          "output_type": "stream",
          "text": [
            "[345, 5]\n",
            "[1, 32, 3, 5, 67]\n"
          ],
          "name": "stdout"
        }
      ]
    },
    {
      "cell_type": "markdown",
      "metadata": {
        "id": "NrogFoRuS6Xw"
      },
      "source": [
        "**Appending elements to the list**"
      ]
    },
    {
      "cell_type": "code",
      "metadata": {
        "colab": {
          "base_uri": "https://localhost:8080/"
        },
        "id": "s-h9sFokTBzu",
        "outputId": "0984066c-0356-465c-facb-4c8fd087b88e"
      },
      "source": [
        "# Append a num into the existing list\n",
        "num = 9\n",
        "list1.append(num)\n",
        "print(\"{} is appended to the list gives {}\".format(num, list1))"
      ],
      "execution_count": null,
      "outputs": [
        {
          "output_type": "stream",
          "text": [
            "9 is appended to the list gives [1, 32, 3, 5, 67, 4, 4, 9]\n"
          ],
          "name": "stdout"
        }
      ]
    },
    {
      "cell_type": "markdown",
      "metadata": {
        "id": "LqQRhCqeUH11"
      },
      "source": [
        "**Pop elements out the list**"
      ]
    },
    {
      "cell_type": "code",
      "metadata": {
        "colab": {
          "base_uri": "https://localhost:8080/"
        },
        "id": "qJZNlUuOUO6f",
        "outputId": "c9b924c2-1b92-49b0-c2df-072323069a61"
      },
      "source": [
        "index = 4\n",
        "list1.pop(index)\n",
        "print(\"after popping out the element in the index {} in the list gives {}\".format(index, list1))"
      ],
      "execution_count": null,
      "outputs": [
        {
          "output_type": "stream",
          "text": [
            "after popping out the element in the index 4 in the list gives [1, 32, 3, 5, 4, 9]\n"
          ],
          "name": "stdout"
        }
      ]
    },
    {
      "cell_type": "markdown",
      "metadata": {
        "id": "W2b9cg77UzGS"
      },
      "source": [
        "**Extend the list**\n",
        "\n",
        "Add another list to the old list"
      ]
    },
    {
      "cell_type": "code",
      "metadata": {
        "colab": {
          "base_uri": "https://localhost:8080/"
        },
        "id": "PvZeEdA7WcKW",
        "outputId": "936afc7e-d558-4117-d0c3-5bc6a04ef5cd"
      },
      "source": [
        "list4 = [0,1,2,4]\n",
        "list1.extend(list4)\n",
        "print(\"After extending the list1 with {} to list1 gives {}\".format(list4, list1))"
      ],
      "execution_count": null,
      "outputs": [
        {
          "output_type": "stream",
          "text": [
            "After extending the list1 with [0, 1, 2, 4] to list1 gives [1, 32, 345, 5, 67, 0, 1, 2, 4, 0, 1, 2, 4, 0, 1, 2, 4, 0, 1, 2, 4]\n"
          ],
          "name": "stdout"
        }
      ]
    },
    {
      "cell_type": "markdown",
      "metadata": {
        "id": "zDgfOKLlW8Ym"
      },
      "source": [
        "**Adding or concatinating / extending to the list using +**"
      ]
    },
    {
      "cell_type": "code",
      "metadata": {
        "colab": {
          "base_uri": "https://localhost:8080/"
        },
        "id": "g3vIV3JFXClE",
        "outputId": "a1b96936-8953-458a-b124-f968255e9c0f"
      },
      "source": [
        "list5 = [9,8,7]\n",
        "print(\"Adding {} with {} gives {}\".format(list4 , list5,list4 + list5))"
      ],
      "execution_count": null,
      "outputs": [
        {
          "output_type": "stream",
          "text": [
            "Adding [0, 1, 2, 4] with [9, 8, 7] gives [0, 1, 2, 4, 9, 8, 7]\n"
          ],
          "name": "stdout"
        }
      ]
    },
    {
      "cell_type": "markdown",
      "metadata": {
        "id": "3W7M1mFmXWzo"
      },
      "source": [
        "**Repeat the element in the list**"
      ]
    },
    {
      "cell_type": "code",
      "metadata": {
        "colab": {
          "base_uri": "https://localhost:8080/"
        },
        "id": "pcjg0BfJXdSY",
        "outputId": "90d1264e-1859-464d-c047-6e00cc732204"
      },
      "source": [
        "num = 3\n",
        "print(\"Repeating {} {} times gives {}\".format(list5 , num, list5 * num))"
      ],
      "execution_count": null,
      "outputs": [
        {
          "output_type": "stream",
          "text": [
            "Repeating [9, 8, 7] 3 times gives [9, 8, 7, 9, 8, 7, 9, 8, 7]\n"
          ],
          "name": "stdout"
        }
      ]
    },
    {
      "cell_type": "markdown",
      "metadata": {
        "id": "2EA91E8GYK5J"
      },
      "source": [
        "**Insert an element to list**"
      ]
    },
    {
      "cell_type": "code",
      "metadata": {
        "colab": {
          "base_uri": "https://localhost:8080/"
        },
        "id": "8xicvgo7YP6C",
        "outputId": "14053b4b-6e0d-4b99-ab96-9a53724fbf96"
      },
      "source": [
        "odd = [1,5,9]\n",
        "odd.insert(1,3)\n",
        "print(odd)"
      ],
      "execution_count": null,
      "outputs": [
        {
          "output_type": "stream",
          "text": [
            "[1, 3, 5, 9]\n"
          ],
          "name": "stdout"
        }
      ]
    },
    {
      "cell_type": "markdown",
      "metadata": {
        "id": "hS5sEZddYWTR"
      },
      "source": [
        "**Deleting an element in list or the whole list**"
      ]
    },
    {
      "cell_type": "code",
      "metadata": {
        "colab": {
          "base_uri": "https://localhost:8080/"
        },
        "id": "kCE2TYMDYs8p",
        "outputId": "dff7e8ec-ebf5-4dd7-9c17-8d9bc1af1d01"
      },
      "source": [
        "# Deleting the elemnt \n",
        "index = 1\n",
        "del odd[index]\n",
        "print(odd)\n",
        "\n",
        "# Deleting the whole list\n",
        "del odd\n",
        "#print(odd)"
      ],
      "execution_count": null,
      "outputs": [
        {
          "output_type": "stream",
          "text": [
            "[1, 5, 9]\n"
          ],
          "name": "stdout"
        }
      ]
    },
    {
      "cell_type": "markdown",
      "metadata": {
        "id": "bAGyvN7qZKjv"
      },
      "source": [
        "**Clear elements in the list**"
      ]
    },
    {
      "cell_type": "code",
      "metadata": {
        "colab": {
          "base_uri": "https://localhost:8080/"
        },
        "id": "Vqsjjbe2ZJ_v",
        "outputId": "6adb9e50-fb20-42ff-f520-e92a8e291b8f"
      },
      "source": [
        "new_list = [1,2,3,4,5]\n",
        "new_list.clear()\n",
        "print(\"The list is cleared\", new_list)"
      ],
      "execution_count": null,
      "outputs": [
        {
          "output_type": "stream",
          "text": [
            "The list is cleared []\n"
          ],
          "name": "stdout"
        }
      ]
    },
    {
      "cell_type": "markdown",
      "metadata": {
        "id": "Z1V4PxQfZlkI"
      },
      "source": [
        "**Reversing the list**"
      ]
    },
    {
      "cell_type": "code",
      "metadata": {
        "colab": {
          "base_uri": "https://localhost:8080/"
        },
        "id": "IziiXJjwZoJ5",
        "outputId": "c8f77931-6b9d-45e0-a452-fcc29447bbfe"
      },
      "source": [
        "list6 = [1,2,3,3,4]\n",
        "print(\"Before reversing the list is\", list6)\n",
        "list6.reverse()\n",
        "print(\"The reversed list is\", list6)"
      ],
      "execution_count": null,
      "outputs": [
        {
          "output_type": "stream",
          "text": [
            "Before reversing the list is [1, 2, 3, 3, 4]\n",
            "The reversed list is [4, 3, 3, 2, 1]\n"
          ],
          "name": "stdout"
        }
      ]
    },
    {
      "cell_type": "markdown",
      "metadata": {
        "id": "iI3jqRL-asXC"
      },
      "source": [
        "**Count** \n",
        "\n",
        "count how many times an element is repeated in the list"
      ]
    },
    {
      "cell_type": "code",
      "metadata": {
        "colab": {
          "base_uri": "https://localhost:8080/"
        },
        "id": "MKCkVhdfbBJZ",
        "outputId": "5ac53db1-7a7e-4355-846b-d20cb6d5015d"
      },
      "source": [
        "num = 3\n",
        "print(\"{} is in list {} {} times\".format(num, list6 , list6.count(num)))"
      ],
      "execution_count": null,
      "outputs": [
        {
          "output_type": "stream",
          "text": [
            "3 is in list [4, 3, 3, 2, 1] 2 times\n"
          ],
          "name": "stdout"
        }
      ]
    },
    {
      "cell_type": "markdown",
      "metadata": {
        "id": "wYvGVYvRbrp2"
      },
      "source": [
        "**Sort the elements in the list**"
      ]
    },
    {
      "cell_type": "code",
      "metadata": {
        "colab": {
          "base_uri": "https://localhost:8080/"
        },
        "id": "dHfkHo60bvxA",
        "outputId": "65323f67-58fe-4779-e755-f3340760e333"
      },
      "source": [
        "list6.sort()\n",
        "print(\" The sorted list is\", list6)\n",
        "list7 = ['a', 'd', 'b', 'c']\n",
        "print(\" The sorted list is\", list7)"
      ],
      "execution_count": null,
      "outputs": [
        {
          "output_type": "stream",
          "text": [
            " The sorted list is [1, 2, 3, 3, 4]\n",
            " The sorted list is ['a', 'd', 'b', 'c']\n"
          ],
          "name": "stdout"
        }
      ]
    },
    {
      "cell_type": "markdown",
      "metadata": {
        "id": "IP1rPRe4J-GE"
      },
      "source": [
        "### OPERATIONS ON TUPLE\n",
        "Tuples are Immutable\n",
        "\n",
        "Once tuple is created, its elements cannot be changed or modified"
      ]
    },
    {
      "cell_type": "code",
      "metadata": {
        "colab": {
          "base_uri": "https://localhost:8080/"
        },
        "id": "Yc__LkGpcYQe",
        "outputId": "df4919d4-a8d3-4f19-8035-839aff5e008f"
      },
      "source": [
        "tuple1 = (1,[1,1,3],3.14, \"string\")\n",
        "print(\"This is a tuple with different elemts\", tuple1)"
      ],
      "execution_count": null,
      "outputs": [
        {
          "output_type": "stream",
          "text": [
            "This is a tuple with different elemts (1, [1, 1, 3], 3.14, 'string')\n"
          ],
          "name": "stdout"
        }
      ]
    },
    {
      "cell_type": "markdown",
      "metadata": {
        "id": "VjNx7Zn-cluX"
      },
      "source": [
        "**Slicing**"
      ]
    },
    {
      "cell_type": "code",
      "metadata": {
        "colab": {
          "base_uri": "https://localhost:8080/"
        },
        "id": "4TyCsgeNcp-W",
        "outputId": "08543756-bb0e-4ac1-9e1e-1e6970ec8fb1"
      },
      "source": [
        "print(\"index 0 of tuple {} is : {}\".format(tuple1, tuple1[0]))\n",
        "print(\"first 4 elements of tuple {} are : {} \".format(tuple1,tuple1[0:4]))\n",
        "print(\"Last elements of tuple {} is : {} \".format(tuple1, tuple1[-1]))\n",
        "print(\"Second last element of tuple {} is : {} \".format(tuple1, tuple1[-2]))"
      ],
      "execution_count": null,
      "outputs": [
        {
          "output_type": "stream",
          "text": [
            "index 0 of tuple (1, [1, 1, 3], 3.14, 'string') is : 1\n",
            "first 4 elements of tuple (1, [1, 1, 3], 3.14, 'string') are : (1, [1, 1, 3], 3.14, 'string') \n",
            "Last elements of tuple (1, [1, 1, 3], 3.14, 'string') is : string \n",
            "Second last element of tuple (1, [1, 1, 3], 3.14, 'string') is : 3.14 \n"
          ],
          "name": "stdout"
        }
      ]
    },
    {
      "cell_type": "markdown",
      "metadata": {
        "id": "Zkykf5CGdS8c"
      },
      "source": [
        "**Deleting a tuple**"
      ]
    },
    {
      "cell_type": "code",
      "metadata": {
        "id": "4nAMM9QxdVY3"
      },
      "source": [
        "del tuple1"
      ],
      "execution_count": null,
      "outputs": []
    },
    {
      "cell_type": "markdown",
      "metadata": {
        "id": "vJR91l7KeQ_f"
      },
      "source": [
        "**Count**"
      ]
    },
    {
      "cell_type": "code",
      "metadata": {
        "colab": {
          "base_uri": "https://localhost:8080/"
        },
        "id": "Jhrc3_VoKbxQ",
        "outputId": "bfd28320-7737-4828-d846-8c73a9bb4b80"
      },
      "source": [
        "tuple2 = ('a','p', 'p', 'l', 'e')\n",
        "print(tuple2.count('p'))"
      ],
      "execution_count": null,
      "outputs": [
        {
          "output_type": "stream",
          "text": [
            "2\n"
          ],
          "name": "stdout"
        }
      ]
    },
    {
      "cell_type": "markdown",
      "metadata": {
        "id": "DjuADpDDKcPH"
      },
      "source": [
        "### OPERATIONS ON DICTIONARY"
      ]
    },
    {
      "cell_type": "markdown",
      "metadata": {
        "id": "DLyDTrYseh5v"
      },
      "source": [
        "Dictionaries are mutable, entries can be added, removed, and changed at any time."
      ]
    },
    {
      "cell_type": "markdown",
      "metadata": {
        "id": "u4Tt5cV8esdo"
      },
      "source": [
        "**Creating a Dictionary**"
      ]
    },
    {
      "cell_type": "code",
      "metadata": {
        "id": "Jn1McYwqevVC"
      },
      "source": [
        "dict1 = {\"string1\" : 1, \"string2\" : 2}"
      ],
      "execution_count": null,
      "outputs": []
    },
    {
      "cell_type": "markdown",
      "metadata": {
        "id": "f_Lw5cKIeyvg"
      },
      "source": [
        "Aceesing a value in the dictionary using key"
      ]
    },
    {
      "cell_type": "code",
      "metadata": {
        "colab": {
          "base_uri": "https://localhost:8080/"
        },
        "id": "MemVOUhfe3vq",
        "outputId": "c9e3afbe-f2b0-4d6a-c000-00ea39fd1bfe"
      },
      "source": [
        "# Using .get()\n",
        "print(\"Value in the dictionary {} of key {}  is {}\".format(dict1, \"string1\", dict1.get(\"string1\")))  \n",
        "# Without using .get()\n",
        "print(\"Value in the dictionary {} of key {} is {}\".format(dict1, \"string1\", dict1[\"string1\"]))  "
      ],
      "execution_count": null,
      "outputs": [
        {
          "output_type": "stream",
          "text": [
            "Value in the dictionary {'string1': 1, 'string2': 2} of key string1  is 1\n",
            "Value in the dictionary {'string1': 1, 'string2': 2} of key string1 is 1\n"
          ],
          "name": "stdout"
        }
      ]
    },
    {
      "cell_type": "markdown",
      "metadata": {
        "id": "aWTVIp2Qf5Sf"
      },
      "source": [
        "Adding new key - value pair"
      ]
    },
    {
      "cell_type": "code",
      "metadata": {
        "colab": {
          "base_uri": "https://localhost:8080/"
        },
        "id": "Oa-2rknbf75e",
        "outputId": "1b8fd0bc-06cd-4171-ad11-674215dfffac"
      },
      "source": [
        "# Adding an element to the existing dictionary\n",
        "dict1[\"string3\"] = 3\n",
        "print(\"Updated dictionary \",dict1)\n",
        "\n",
        "# Can also update dictionary using .update()\n",
        "dict1.update({\"string4\" : 4, \"string5\" :5})\n",
        "print(\"\\nNewly Updated dictionary\",dict1)\n",
        "dict2 = {\"string7\" : 7, \"string6\" : 6}\n",
        "dict1.update(dict2)\n",
        "print(\"\\nNewly Updated dictionary\",dict1)\n"
      ],
      "execution_count": null,
      "outputs": [
        {
          "output_type": "stream",
          "text": [
            "Updated dictionary  {'string1': 1, 'string2': 2, 'string3': 3}\n",
            "\n",
            "Newly Updated dictionary {'string1': 1, 'string2': 2, 'string3': 3, 'string4': 4, 'string5': 5}\n",
            "\n",
            "Newly Updated dictionary {'string1': 1, 'string2': 2, 'string3': 3, 'string4': 4, 'string5': 5, 'string7': 7, 'string6': 6}\n"
          ],
          "name": "stdout"
        }
      ]
    },
    {
      "cell_type": "markdown",
      "metadata": {
        "id": "ERnDLxn4gkTi"
      },
      "source": [
        "Popping, Clearing and deleting in dictionary\n",
        "\n",
        "\n"
      ]
    },
    {
      "cell_type": "code",
      "metadata": {
        "id": "a55QKQoVhMmk"
      },
      "source": [
        "dict1.pop(\"string7\")\n",
        "dict2.clear()\n",
        "del dict2\n",
        "# print(dict2)"
      ],
      "execution_count": null,
      "outputs": []
    },
    {
      "cell_type": "markdown",
      "metadata": {
        "id": "L_I-EU1fhPtr"
      },
      "source": [
        "**Items, keys, values in dictionary**\n",
        "\n",
        "Get the keys using .keys(), values using .values() and all the elements/items using .items()"
      ]
    },
    {
      "cell_type": "code",
      "metadata": {
        "colab": {
          "base_uri": "https://localhost:8080/"
        },
        "id": "mIHVZfxjKfzr",
        "outputId": "d160441f-7864-4cc5-cf2b-92c4b5a4ce02"
      },
      "source": [
        "dict1.keys()\n",
        "dict1.values()\n",
        "dict1.items()\n",
        "\n"
      ],
      "execution_count": null,
      "outputs": [
        {
          "output_type": "execute_result",
          "data": {
            "text/plain": [
              "dict_items([('string1', 1), ('string2', 2), ('string3', 3), ('string4', 4), ('string5', 5), ('string6', 6)])"
            ]
          },
          "metadata": {
            "tags": []
          },
          "execution_count": 327
        }
      ]
    },
    {
      "cell_type": "markdown",
      "metadata": {
        "id": "JPp7gOGVhjVy"
      },
      "source": [
        "Other common sequence operations"
      ]
    },
    {
      "cell_type": "code",
      "metadata": {
        "colab": {
          "base_uri": "https://localhost:8080/"
        },
        "id": "xnYtgAmvhlpX",
        "outputId": "ca099e58-e8f6-45db-f270-936449f50937"
      },
      "source": [
        "print(sorted(list(dict1.keys())))\n",
        "print(len(dict1))\n"
      ],
      "execution_count": null,
      "outputs": [
        {
          "output_type": "stream",
          "text": [
            "['string1', 'string2', 'string3', 'string4', 'string5', 'string6']\n",
            "6\n"
          ],
          "name": "stdout"
        }
      ]
    },
    {
      "cell_type": "markdown",
      "metadata": {
        "id": "A7wr1R1BKgH6"
      },
      "source": [
        "### OPERATIONS ON SET"
      ]
    },
    {
      "cell_type": "markdown",
      "metadata": {
        "id": "Li6CwBjLh_th"
      },
      "source": [
        "Creating a set"
      ]
    },
    {
      "cell_type": "code",
      "metadata": {
        "colab": {
          "base_uri": "https://localhost:8080/"
        },
        "id": "RlF5KlJIiBK4",
        "outputId": "cbc9ea5c-e4dc-4682-e3bb-38ff0d8b5c20"
      },
      "source": [
        "set1 = set([1,2,3,4,4,3])\n",
        "set2 = {3,3,4,4.5,\"Hello\"}\n",
        "print(\"set 1 is {} \\nset 2 is {}\".format(set1, set2))"
      ],
      "execution_count": null,
      "outputs": [
        {
          "output_type": "stream",
          "text": [
            "set 1 is {1, 2, 3, 4} \n",
            "set 2 is {'Hello', 3, 4, 4.5}\n"
          ],
          "name": "stdout"
        }
      ]
    },
    {
      "cell_type": "markdown",
      "metadata": {
        "id": "PihVxVmeiK_o"
      },
      "source": [
        "Adding/ Updating an elemnet to the set"
      ]
    },
    {
      "cell_type": "code",
      "metadata": {
        "colab": {
          "base_uri": "https://localhost:8080/"
        },
        "id": "PPg1kDKgiNdN",
        "outputId": "1743bea1-ff56-4364-aa37-3177a2d559ef"
      },
      "source": [
        "set1.add(9)\n",
        "print(\"number 9 is added to set 1\",set1)\n",
        "set3 = {1,3}\n",
        "set3.update([5,2,4])\n",
        "print(\"set 3 is updated to {}\".format(set3))"
      ],
      "execution_count": null,
      "outputs": [
        {
          "output_type": "stream",
          "text": [
            "number 9 is added to set 1 {1, 2, 3, 4, 9}\n",
            "set 3 is updated to {1, 2, 3, 4, 5}\n"
          ],
          "name": "stdout"
        }
      ]
    },
    {
      "cell_type": "markdown",
      "metadata": {
        "id": "7f-i0B5CijWK"
      },
      "source": [
        "Discard / Remove elements in the set"
      ]
    },
    {
      "cell_type": "code",
      "metadata": {
        "colab": {
          "base_uri": "https://localhost:8080/"
        },
        "id": "_kISAE8cinLY",
        "outputId": "f8a760ff-648b-4cd1-ac0e-1b250a1b6527"
      },
      "source": [
        "# removing element 1\n",
        "\n",
        "set3.discard(1)\n",
        "print(\"number 1 is discarded form set 3\",set3)\n",
        "set3.remove(2)\n",
        "print(\"number 2 is removed form set 3\",set3)\n"
      ],
      "execution_count": null,
      "outputs": [
        {
          "output_type": "stream",
          "text": [
            "number 1 is discarded form set 3 {2, 3, 4, 5}\n",
            "number 2 is removed form set 3 {3, 4, 5}\n"
          ],
          "name": "stdout"
        }
      ]
    },
    {
      "cell_type": "markdown",
      "metadata": {
        "id": "BgN59kfhjA9I"
      },
      "source": [
        "Pop / clear"
      ]
    },
    {
      "cell_type": "code",
      "metadata": {
        "colab": {
          "base_uri": "https://localhost:8080/"
        },
        "id": "mBFyPEVsjC7C",
        "outputId": "787cc5f5-4c0a-42ff-a561-ac25be4fe614"
      },
      "source": [
        "# The first element pops out\n",
        "set3.pop()\n",
        "print(set3)\n",
        "\n",
        "# Clears all the elements in the set\n",
        "set3.clear()\n",
        "print(set3)"
      ],
      "execution_count": null,
      "outputs": [
        {
          "output_type": "stream",
          "text": [
            "{4, 5}\n",
            "set()\n"
          ],
          "name": "stdout"
        }
      ]
    },
    {
      "cell_type": "markdown",
      "metadata": {
        "id": "6-bZzHnnjT5y"
      },
      "source": [
        "Mathematical SETOperations"
      ]
    },
    {
      "cell_type": "markdown",
      "metadata": {
        "id": "QO5NyTXIjXRY"
      },
      "source": [
        "Union"
      ]
    },
    {
      "cell_type": "code",
      "metadata": {
        "colab": {
          "base_uri": "https://localhost:8080/"
        },
        "id": "SoK2cPCMjaVe",
        "outputId": "e0aa6c1c-5a9e-4212-be49-ef79b67f30eb"
      },
      "source": [
        "A = {1,2,3,4,5}\n",
        "B = {4,5,6,7,8}\n",
        "# Using |\n",
        "print(\"Union of {} and {} is {}\".format(A,B,A|B))\n",
        "# Using union() function\n",
        "print(\"Union of {} and {} is {}\".format(A,B,A.union(B)))\n"
      ],
      "execution_count": null,
      "outputs": [
        {
          "output_type": "stream",
          "text": [
            "Union of {1, 2, 3, 4, 5} and {4, 5, 6, 7, 8} is {1, 2, 3, 4, 5, 6, 7, 8}\n",
            "Union of {1, 2, 3, 4, 5} and {4, 5, 6, 7, 8} is {1, 2, 3, 4, 5, 6, 7, 8}\n"
          ],
          "name": "stdout"
        }
      ]
    },
    {
      "cell_type": "markdown",
      "metadata": {
        "id": "6InW11t6jqvM"
      },
      "source": [
        "Intersection"
      ]
    },
    {
      "cell_type": "code",
      "metadata": {
        "colab": {
          "base_uri": "https://localhost:8080/"
        },
        "id": "OaG4k0-LjsGw",
        "outputId": "3a4259bf-a31d-4b60-d940-69f331ef864c"
      },
      "source": [
        "\n",
        "# Using &\n",
        "print(\"Intersection of {} and {} is {}\".format(A,B,A&B))\n",
        "# Using intersection() function\n",
        "print(\"Intersection of {} and {} is {}\".format(A,B,A.intersection(B)))"
      ],
      "execution_count": null,
      "outputs": [
        {
          "output_type": "stream",
          "text": [
            "Intersection of {1, 2, 3, 4, 5} and {4, 5, 6, 7, 8} is {4, 5}\n",
            "Intersection of {1, 2, 3, 4, 5} and {4, 5, 6, 7, 8} is {4, 5}\n"
          ],
          "name": "stdout"
        }
      ]
    },
    {
      "cell_type": "markdown",
      "metadata": {
        "id": "DZO9W8zLjxPi"
      },
      "source": [
        "Difference"
      ]
    },
    {
      "cell_type": "code",
      "metadata": {
        "colab": {
          "base_uri": "https://localhost:8080/"
        },
        "id": "_E1_iKgrjyiM",
        "outputId": "6ca2f653-24fd-43d3-8f3a-3ac4e406c85f"
      },
      "source": [
        "# Using -\n",
        "print(\"Difference of {} and {} is {}\".format(A,B,A-B))\n",
        "# Using differnce() function\n",
        "print(\"Difference of {} and {} is {}\".format(A,B,A.difference(B)))"
      ],
      "execution_count": null,
      "outputs": [
        {
          "output_type": "stream",
          "text": [
            "Difference of {1, 2, 3, 4, 5} and {4, 5, 6, 7, 8} is {1, 2, 3}\n",
            "Difference of {1, 2, 3, 4, 5} and {4, 5, 6, 7, 8} is {1, 2, 3}\n"
          ],
          "name": "stdout"
        }
      ]
    },
    {
      "cell_type": "markdown",
      "metadata": {
        "id": "wQndnvgVkEfd"
      },
      "source": [
        "Symetric Difference"
      ]
    },
    {
      "cell_type": "code",
      "metadata": {
        "colab": {
          "base_uri": "https://localhost:8080/"
        },
        "id": "H4-lIz1BkG7p",
        "outputId": "62bfaadf-e810-4d9f-ecd7-65e4e7b6baf1"
      },
      "source": [
        "print(A^B)\n",
        "print(A.symmetric_difference(B))"
      ],
      "execution_count": null,
      "outputs": [
        {
          "output_type": "stream",
          "text": [
            "{1, 2, 3, 6, 7, 8}\n",
            "{1, 2, 3, 6, 7, 8}\n"
          ],
          "name": "stdout"
        }
      ]
    },
    {
      "cell_type": "markdown",
      "metadata": {
        "id": "IhH66y91kJwy"
      },
      "source": [
        "Basic sequence operations"
      ]
    },
    {
      "cell_type": "code",
      "metadata": {
        "colab": {
          "base_uri": "https://localhost:8080/"
        },
        "id": "2NRv7N5QkNPp",
        "outputId": "cb86a6dd-75bc-4fe3-bf25-859fa0f889dc"
      },
      "source": [
        "print(sorted(set([5,3,3,6,2])))\n",
        "print(sum(A))"
      ],
      "execution_count": null,
      "outputs": [
        {
          "output_type": "stream",
          "text": [
            "[2, 3, 5, 6]\n",
            "15\n"
          ],
          "name": "stdout"
        }
      ]
    },
    {
      "cell_type": "markdown",
      "metadata": {
        "id": "zUeBug-_lQ0t"
      },
      "source": [
        "### BASIC OPERATIONS ON ANY SEQUENCE TYPE\n"
      ]
    },
    {
      "cell_type": "markdown",
      "metadata": {
        "id": "bfUI-uiMkiOO"
      },
      "source": [
        "BASIC OPERATIONS ON ANY SEQUENCE TYPE\n",
        "\n",
        "\n",
        ">>>all()\t\n",
        "\n",
        "Returns True if all elements of the set are true (or if the set is empty).\n",
        "\n",
        ">>>any()\t\n",
        "\n",
        "Returns True if any element of the set is true. If the set is empty, returns False.\n",
        "\n",
        ">>>enumerate()\t\n",
        "\n",
        "Returns an enumerate object. It contains the index and value for all the items of the set as a pair.\n",
        ">>>len()\t\n",
        "\n",
        "Returns the length (the number of items) in the set.\n",
        "\n",
        "\n",
        ">>> max()\t\n",
        "\n",
        "Returns the largest item in the set.\n",
        ">>> min()\t\n",
        "\n",
        "Returns the smallest item in the set.\n",
        "\n",
        ">>> sorted()\t\n",
        "\n",
        "Returns a new sorted list from elements in the set(does not sort the set itself).\n",
        "\n",
        ">>> sum()\t\n",
        "\n",
        "Returns the sum of all elements in the set.\n",
        "\n",
        "\n",
        "\n",
        "***Try them on different Sequence Types***"
      ]
    },
    {
      "cell_type": "markdown",
      "metadata": {
        "id": "ldHin2L-ol6d"
      },
      "source": [
        "## FLOW CONTROL - CONDITIONALS"
      ]
    },
    {
      "cell_type": "markdown",
      "metadata": {
        "id": "a7SepiBAp4Uv"
      },
      "source": [
        "if \n",
        "\n",
        "if else\n",
        "\n",
        "else if -- elif"
      ]
    },
    {
      "cell_type": "markdown",
      "metadata": {
        "id": "N_kOSJzAQdac"
      },
      "source": [
        "IF"
      ]
    },
    {
      "cell_type": "code",
      "metadata": {
        "id": "4KVMZ0e7QVid"
      },
      "source": [
        "x = 100\n",
        "if x > 10:\n",
        "  print(\"{} is greater than 10\".format(x))"
      ],
      "execution_count": null,
      "outputs": []
    },
    {
      "cell_type": "markdown",
      "metadata": {
        "id": "78djRB2hQelz"
      },
      "source": [
        "IF ELSE"
      ]
    },
    {
      "cell_type": "code",
      "metadata": {
        "id": "DfG1VpRgQXh_"
      },
      "source": [
        "if x > 10:\n",
        "  print(\"{} is greater than 10\".format(x))\n",
        "else:\n",
        "  print(\"{} is less than 5\".format(x)) "
      ],
      "execution_count": null,
      "outputs": []
    },
    {
      "cell_type": "markdown",
      "metadata": {
        "id": "MbV5QROWQhj5"
      },
      "source": [
        "IF ELIF ...."
      ]
    },
    {
      "cell_type": "code",
      "metadata": {
        "colab": {
          "base_uri": "https://localhost:8080/"
        },
        "id": "1Kjh33UGp4AY",
        "outputId": "305a3ca2-7565-4bd9-c4bd-9d7487371b8b"
      },
      "source": [
        "x = input(\"Give a number \")\n",
        "x = float(x)\n",
        "\n",
        "print(x)\n",
        "\n",
        "if x > 10:\n",
        "  print(\"{} is greater than 10\".format(x))\n",
        "elif x > 5:\n",
        "  print(\"{} is greater than 5\".format(x))\n",
        "elif x > 2:\n",
        "  print(\"{} is greater than 2\".format(x))\n",
        "else:\n",
        "  print(\"{} is less than 5\".format(x))"
      ],
      "execution_count": null,
      "outputs": [
        {
          "output_type": "stream",
          "text": [
            "Give a number 8\n",
            "8.0\n",
            "8.0 is greater than 5\n"
          ],
          "name": "stdout"
        }
      ]
    },
    {
      "cell_type": "markdown",
      "metadata": {
        "id": "N1i7qV5Is6yX"
      },
      "source": [
        "## CATCHING ERRORS\n",
        "\n",
        "\n",
        "`Try` \n",
        "\n",
        "`except`\n",
        "\n",
        "`Finally`\n",
        "\n",
        "`raise`\n",
        "\n",
        "\n",
        "\n",
        "\n"
      ]
    },
    {
      "cell_type": "markdown",
      "metadata": {
        "id": "YD-Pvd9SRbsp"
      },
      "source": [
        "The try block lets you test a block of code for errors.\n",
        "\n",
        "The except block lets you handle the error."
      ]
    },
    {
      "cell_type": "code",
      "metadata": {
        "colab": {
          "base_uri": "https://localhost:8080/"
        },
        "id": "9-XJCRSJs9JU",
        "outputId": "68404185-81e5-4ca9-98b7-af26e88e2bf9"
      },
      "source": [
        "try :\n",
        "  x = float(input(\"Give a number \"))\n",
        "  print(x)\n",
        "\n",
        "  if x > 10:\n",
        "    print(\"{} is greater than 10\".format(x))\n",
        "  elif x > 5:\n",
        "    print(\"{} is greater than 5\".format(x))\n",
        "  elif x > 2:\n",
        "    print(\"{} is greater than 2\".format(x))\n",
        "  else:\n",
        "    print(\"{} is less than 5\".format(x))\n",
        "\n",
        "except  ValueError as e:\n",
        "  print(\"Invalid input {} is not a number\".format(x))\n"
      ],
      "execution_count": null,
      "outputs": [
        {
          "output_type": "stream",
          "text": [
            "Give a number hello\n",
            "Invalid input 3.0 is not a number\n"
          ],
          "name": "stdout"
        }
      ]
    },
    {
      "cell_type": "markdown",
      "metadata": {
        "id": "aAWULofKSoYx"
      },
      "source": [
        "## LOOPS"
      ]
    },
    {
      "cell_type": "markdown",
      "metadata": {
        "id": "tP-OqYMsg65j"
      },
      "source": [
        "### For Loop"
      ]
    },
    {
      "cell_type": "markdown",
      "metadata": {
        "id": "zEJ_R8P_hPMS"
      },
      "source": [
        "Directly accesing elements through for loop"
      ]
    },
    {
      "cell_type": "code",
      "metadata": {
        "colab": {
          "base_uri": "https://localhost:8080/"
        },
        "id": "MbeqoUqfg57n",
        "outputId": "5403be9e-d15e-4950-dbd1-2a787551d089"
      },
      "source": [
        "item = [1,2,3,4]\n",
        "for element in item :\n",
        "  print(element)\n"
      ],
      "execution_count": null,
      "outputs": [
        {
          "output_type": "stream",
          "text": [
            "1\n",
            "2\n",
            "3\n",
            "4\n"
          ],
          "name": "stdout"
        }
      ]
    },
    {
      "cell_type": "markdown",
      "metadata": {
        "id": "U-2RshUGhVXx"
      },
      "source": [
        "Looping through indexes for loop"
      ]
    },
    {
      "cell_type": "code",
      "metadata": {
        "colab": {
          "base_uri": "https://localhost:8080/"
        },
        "id": "RfYv8Bc6iHdx",
        "outputId": "cd944331-a755-4906-c3c4-1e062ac05e8f"
      },
      "source": [
        "new_list = []\n",
        "for i in range(len(item)):\n",
        "  new_list.append(item[i])\n",
        "print(new_list)"
      ],
      "execution_count": null,
      "outputs": [
        {
          "output_type": "stream",
          "text": [
            "[1, 2, 3, 4]\n"
          ],
          "name": "stdout"
        }
      ]
    },
    {
      "cell_type": "code",
      "metadata": {
        "colab": {
          "base_uri": "https://localhost:8080/"
        },
        "id": "BM1vvVcqhMYK",
        "outputId": "d66ab478-ccfb-4d6e-e473-685f8da66cc6"
      },
      "source": [
        "# Get even numbers until 10 and store it in the list\n",
        "even_nums = []\n",
        "for i in range(0,10,2):\n",
        "  even_nums.append(i)\n",
        "print(\"Even numbers :\", even_nums)"
      ],
      "execution_count": null,
      "outputs": [
        {
          "output_type": "stream",
          "text": [
            "Even numbers : [0, 2, 4, 6, 8]\n"
          ],
          "name": "stdout"
        }
      ]
    },
    {
      "cell_type": "markdown",
      "metadata": {
        "id": "rK7o9P7yhbHQ"
      },
      "source": [
        "LIST COMPREHENSION"
      ]
    },
    {
      "cell_type": "code",
      "metadata": {
        "colab": {
          "base_uri": "https://localhost:8080/"
        },
        "id": "6GxDDOpphcyM",
        "outputId": "bdbf2e32-58e2-4ad0-907b-e14d2476485d"
      },
      "source": [
        "# Odd number using List comprehension\n",
        "\n",
        "odd_nums = [i for i in range(1,10,2)]\n",
        "print(\"Odd Numbers:\", odd_nums)"
      ],
      "execution_count": null,
      "outputs": [
        {
          "output_type": "stream",
          "text": [
            "Odd Numbers: [1, 3, 5, 7, 9]\n"
          ],
          "name": "stdout"
        }
      ]
    },
    {
      "cell_type": "markdown",
      "metadata": {
        "id": "YRDSB2R5iKz4"
      },
      "source": [
        "### While Loop"
      ]
    },
    {
      "cell_type": "code",
      "metadata": {
        "colab": {
          "base_uri": "https://localhost:8080/"
        },
        "id": "CY9k46tliM1s",
        "outputId": "cffa7f5f-af91-4f88-a86d-860ec61f7be6"
      },
      "source": [
        "Printing even numbers until 10 \n",
        "i = 0\n",
        "while i<=10:\n",
        "  print(i)\n",
        "  i += 2\n",
        "\n"
      ],
      "execution_count": null,
      "outputs": [
        {
          "output_type": "stream",
          "text": [
            "0\n",
            "2\n",
            "4\n",
            "6\n"
          ],
          "name": "stdout"
        }
      ]
    },
    {
      "cell_type": "markdown",
      "metadata": {
        "id": "I85rfl9yjFlE"
      },
      "source": [
        "Break - Stops/ Breaks the while/for loop "
      ]
    },
    {
      "cell_type": "code",
      "metadata": {
        "colab": {
          "base_uri": "https://localhost:8080/"
        },
        "id": "83oUUv3ejGvh",
        "outputId": "75305860-e743-4e61-f979-d359a53674a8"
      },
      "source": [
        "# Printing even numbers until 5 just by adding 1/2 lines to the above code\n",
        "i = 0\n",
        "while i<=10:\n",
        "  if i >=5:\n",
        "    break\n",
        "  print(i)\n",
        "  i += 2"
      ],
      "execution_count": null,
      "outputs": [
        {
          "output_type": "stream",
          "text": [
            "0\n",
            "2\n",
            "4\n"
          ],
          "name": "stdout"
        }
      ]
    },
    {
      "cell_type": "markdown",
      "metadata": {
        "id": "ukjWdwLojJlI"
      },
      "source": [
        "continue - Skips that one iteration "
      ]
    },
    {
      "cell_type": "code",
      "metadata": {
        "colab": {
          "base_uri": "https://localhost:8080/"
        },
        "id": "nnRnVO0IjKnj",
        "outputId": "bbe4cfbf-c9ea-441f-b54b-1678e8de555d"
      },
      "source": [
        "# Printing even numbers until 10 but skip 6 just by adding 2/3 lines to the above code\n",
        "i = 0\n",
        "while i<=10:\n",
        "  if i == 6:\n",
        "    i += 2\n",
        "    continue\n",
        "  print(i)\n",
        "  i += 2"
      ],
      "execution_count": null,
      "outputs": [
        {
          "output_type": "stream",
          "text": [
            "0\n",
            "2\n",
            "4\n",
            "8\n",
            "10\n"
          ],
          "name": "stdout"
        }
      ]
    },
    {
      "cell_type": "markdown",
      "metadata": {
        "id": "gsW5IqnN_d4b"
      },
      "source": [
        "## FUNCTIONS\n",
        "\n",
        "Sytnax for defining a function\n",
        "Parameters are the values that we are giving to the function when defining the function\n",
        "\n",
        "```\n",
        "def function_name(parameter) :\n",
        "  function_body\n",
        "  return variable/value\n",
        "\n",
        "```\n",
        "The return statement is not mandatory, it is users choice. \n",
        "\n",
        "\n",
        "Sytnax for calling a function\n",
        "Arguments are the values that we are giving to the function when calling the function\n",
        "\n",
        "```\n",
        "function_name(argument)\n",
        "```\n",
        "\n",
        "\n"
      ]
    },
    {
      "cell_type": "markdown",
      "metadata": {
        "id": "qpb_1NUf52Ki"
      },
      "source": [
        "Defining a function without parameters"
      ]
    },
    {
      "cell_type": "code",
      "metadata": {
        "colab": {
          "base_uri": "https://localhost:8080/"
        },
        "id": "qb27L7nuADvg",
        "outputId": "36c1bb91-e35e-42ea-d292-e9d706963bb3"
      },
      "source": [
        "def greetings():\n",
        "  print(\"Hello, Hi\")\n",
        "\n",
        "greetings()"
      ],
      "execution_count": null,
      "outputs": [
        {
          "output_type": "stream",
          "text": [
            "Hello, Hi\n"
          ],
          "name": "stdout"
        }
      ]
    },
    {
      "cell_type": "markdown",
      "metadata": {
        "id": "NJMIx9U75xYD"
      },
      "source": [
        "Defining a function with paramters"
      ]
    },
    {
      "cell_type": "code",
      "metadata": {
        "colab": {
          "base_uri": "https://localhost:8080/"
        },
        "id": "Kw1_2xMU_6ej",
        "outputId": "0d3259eb-9ae3-4f9a-f7a0-120ff093a4c3"
      },
      "source": [
        "# Function for summing two numbers\n",
        "\n",
        "# defining the function\n",
        "def sum(a,b):\n",
        "  sum = a+b\n",
        "  print(\"The sum of a = {} and b = {}  is {}\".format(a,b,sum))\n",
        "  # The return statement is not mandatory \n",
        "  return sum\n",
        "\n",
        "x = 1\n",
        "y = 4\n",
        "# Calling the function\n",
        "sum(x, y)\n",
        "\n",
        "# storing the returned value of the function in the variable\n",
        "sum = sum(x,y)\n",
        "print(\"The sum of {} and {} is {}\".format(x,y,sum))"
      ],
      "execution_count": null,
      "outputs": [
        {
          "output_type": "stream",
          "text": [
            "The sum of a = 1 and b = 4  is 5\n",
            "The sum of a = 1 and b = 4  is 5\n",
            "The sum of 1 and 4 is 5\n"
          ],
          "name": "stdout"
        }
      ]
    },
    {
      "cell_type": "markdown",
      "metadata": {
        "id": "bZxTGYaAAUXk"
      },
      "source": [
        "## IMPORTING LIBRARY OR MODULES\n",
        "\n",
        "A Python library is a reusable chunk of code that you may want to include in your programs/ projects.\n",
        "\n",
        "syntax\n",
        "\n",
        "\n",
        "```\n",
        "import library_name\n",
        "```\n",
        "\n",
        "```\n",
        "from library_name import module_name\n",
        "```\n",
        "\n"
      ]
    },
    {
      "cell_type": "markdown",
      "metadata": {
        "id": "pB2DxMLcA_Mp"
      },
      "source": [
        "### Rolling a dice using random libarary"
      ]
    },
    {
      "cell_type": "code",
      "metadata": {
        "colab": {
          "base_uri": "https://localhost:8080/"
        },
        "id": "_ue_V6G1A8py",
        "outputId": "67831160-8eb6-4caf-b132-6e90d3ca39c8"
      },
      "source": [
        "import random\n",
        "\n",
        "# A dice has 6 side with one unique number of each side ranging between 1 - 6\n",
        "# random.randint will give random number ithin range given in the brackets\n",
        "\n",
        "result = random.randint(1,6)\n",
        "print(\"You roll a {}\".format(result))"
      ],
      "execution_count": null,
      "outputs": [
        {
          "output_type": "stream",
          "text": [
            "You roll a 1\n"
          ],
          "name": "stdout"
        }
      ]
    },
    {
      "cell_type": "markdown",
      "metadata": {
        "id": "h-kTCE7zBe1P"
      },
      "source": [
        "### Signing up and Loging in using sys library"
      ]
    },
    {
      "cell_type": "code",
      "metadata": {
        "colab": {
          "base_uri": "https://localhost:8080/"
        },
        "id": "Efe695wtBlm7",
        "outputId": "e0ca65d7-8d7a-4700-f0c2-8c7ff228b086"
      },
      "source": [
        "import sys\n",
        "\n",
        "username = input(\"To signup Enter your user name :\")\n",
        "password = input(\"Create a password : \")\n",
        "print(\"You are successfully signed up\")\n",
        "\n",
        "username_entered = input(\"To login enter your username : \")\n",
        "passwrod_entered = input(\"To login enter your password : \")\n",
        "\n",
        "if username_entered == username and passwrod_entered == password :\n",
        "  print(\"Here is your secret information : You are Smartest kid here\")\n",
        "else:\n",
        "  print(\"Intruder Alert\")"
      ],
      "execution_count": null,
      "outputs": [
        {
          "output_type": "stream",
          "text": [
            "To signup Enter your user name :balloon\n",
            "Create a password : balloon\n",
            "You are successfully signed up\n",
            "To login enter your username : balloon\n",
            "To login enter your password : bolloon\n",
            "Intruder Alert\n"
          ],
          "name": "stdout"
        }
      ]
    },
    {
      "cell_type": "markdown",
      "metadata": {
        "id": "sp5d8PZXC6Xz"
      },
      "source": [
        "### Magic Ball Game"
      ]
    },
    {
      "cell_type": "code",
      "metadata": {
        "colab": {
          "base_uri": "https://localhost:8080/",
          "height": 229
        },
        "id": "7qMM6QYHE8u5",
        "outputId": "5e173f72-e281-4876-edc8-b3994a7698a1"
      },
      "source": [
        "# importing the libraries\n",
        "\n",
        "import sys\n",
        "import random \n",
        "\n",
        "# defining the function without parameters\n",
        "\n",
        "def magicball():\n",
        "\n",
        "  ans = True\n",
        "\n",
        "  while ans:\n",
        "      question = input(\"Ask the magic 8 ball a question: (press enter to quit) \")\n",
        "      \n",
        "      answers = random.randint(1,8)\n",
        "      \n",
        "      if question == \"\":\n",
        "          sys.exit()\n",
        "      \n",
        "      elif answers == 1:\n",
        "          print (\"You are absoluetly right\")\n",
        "      \n",
        "      elif answers == 2:\n",
        "          print (\"Outlook good\")\n",
        "      \n",
        "      elif answers == 3:\n",
        "          print (\"You may rely on it\")\n",
        "      \n",
        "      elif answers == 4:\n",
        "          print (\"Ask again later\")\n",
        "      \n",
        "      elif answers == 5:\n",
        "          print (\"Concentrate and ask again\")\n",
        "      \n",
        "      elif answers == 6:\n",
        "          print (\"Reply hazy, try again\")\n",
        "      \n",
        "      elif answers == 7:\n",
        "          print (\"My reply is no\")\n",
        "      \n",
        "      elif answers == 8:\n",
        "          print (\"My sources say no\")\n",
        "      \n",
        "\n",
        "# Calling the function\n",
        "magicball()  "
      ],
      "execution_count": null,
      "outputs": [
        {
          "output_type": "stream",
          "text": [
            "Ask the magic 8 ball a question: (press enter to quit) 1\n",
            "Concentrate and ask again\n",
            "Ask the magic 8 ball a question: (press enter to quit) Will i be succesfull\n",
            "Outlook good\n",
            "Ask the magic 8 ball a question: (press enter to quit) \n"
          ],
          "name": "stdout"
        },
        {
          "output_type": "error",
          "ename": "SystemExit",
          "evalue": "ignored",
          "traceback": [
            "An exception has occurred, use %tb to see the full traceback.\n",
            "\u001b[0;31mSystemExit\u001b[0m\n"
          ]
        },
        {
          "output_type": "stream",
          "text": [
            "/usr/local/lib/python3.6/dist-packages/IPython/core/interactiveshell.py:2890: UserWarning: To exit: use 'exit', 'quit', or Ctrl-D.\n",
            "  warn(\"To exit: use 'exit', 'quit', or Ctrl-D.\", stacklevel=1)\n"
          ],
          "name": "stderr"
        }
      ]
    },
    {
      "cell_type": "code",
      "metadata": {
        "colab": {
          "base_uri": "https://localhost:8080/"
        },
        "id": "2G2RiH_2nyxl",
        "outputId": "567d676d-1d9f-4903-e489-55a3a79c2cde"
      },
      "source": [
        "for i in range(0+1):\n",
        "  print(i)"
      ],
      "execution_count": null,
      "outputs": [
        {
          "output_type": "stream",
          "text": [
            "0\n"
          ],
          "name": "stdout"
        }
      ]
    }
  ]
}